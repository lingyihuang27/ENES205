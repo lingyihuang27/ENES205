{
 "cells": [
  {
   "cell_type": "markdown",
   "metadata": {
    "deletable": true,
    "editable": true
   },
   "source": [
    "##### Steady State or Homogeneous Phasor Solutions\n",
    "\n",
    "# Example 3-1\n",
    "![example3-1](example3-1.png)  \n",
    "What is the maximum current through a 5 ohm resistor, 5 microHenry inductor, and a 5 nanoFarad capacitor if the frequency is 1 Meg Hz and Voltage max is 5 volts?  \n",
    "  \n",
    "Values:  \n",
    "$f = 10^6 \\frac{cycles}{sec}$ or Hz  \n",
    "$\\omega = 2\\pi f \\frac{radians}{sec}$ or angular velocity  \n",
    "$V = 5cos(\\omega t)$   \n",
    "R = 5 $\\omega$  \n",
    "L = 5 $\\mu$H = $5*10^{-6}$  \n",
    "C = 0.5 nF = $5*10^{-9}$  \n",
    "  \n",
    "Steady State Mesh Equation Time Domain (still use DC sign conventions)  \n",
    "0 = $V(t) - Ri(t) - L\\frac{di(t)}{dt} - \\frac{1}{C}\\int_{-\\infty}^{t}i(\\tau)d\\tau$\n",
    "\n",
    "Steady State Mesh Equation Phasor Domain  \n",
    "$0 = \\displaystyle \\stackrel{\\text{^}}{V} - R\\stackrel{\\text{^}}{I} - \\omega jL\\stackrel{\\text{^}}{I} - \\frac{1}{\\omega jC}\\stackrel{\\text{^}}{I} \\displaystyle$ \n",
    "\n",
    "Solve for $\\displaystyle \\stackrel{\\text{^}}{I} \\displaystyle$  \n",
    "$\\displaystyle \\stackrel{\\text{^}}{I} \\displaystyle = \\frac{\\stackrel{\\text{^}}{V}}{R + \\omega jL + \\frac{1}{\\omega jC}} = \\frac{5}{5+2\\pi j10^65*10^{-6} + \\frac{1}{2\\pi j10^65*10^{-9}}}$  \n",
    "$= \\frac{5}{5+10\\pi j - \\frac{j}{\\pi 10^{-2}}} = \\frac{5}{5 + 31.42j - 31.83j} \\approx 1$  \n",
    "  \n",
    "Move $\\displaystyle \\stackrel{\\text{^}}{I} \\displaystyle$ back into the time domain:  \n",
    "  \n",
    "$i(t) = cos(\\omega t)$  \n",
    "  \n",
    "This is the current through the resistor meaning that the power supply sees just the resistor. Meaning that the capacitor and inductor cancel each other out.  \n",
    "  \n",
    "$i_r$ = 1 amp  \n",
    "  \n",
    "The net voltage across the capacitor and inductor combination is zero from the resitor and power supplies point of view.   \n",
    "  \n",
    "However, they will each have a peak voltage and peak current that can be much larger (or smaller) than the supply.   \n",
    "  \n",
    "While the exact math of this will be covered in Ch7, one can relate the peak voltages of the resistor, capacitor and inductors in this way:  \n",
    "  \n",
    "$i_R R = i_L X_L = i_c X_c$\n",
    "\n",
    "The voltages at any instant add up to 5 volts. These are peak voltages that happen at different times. \n",
    "\n",
    "Meaning that $i_L = \\frac{i_R * R}{X_L} \\approx \\frac{5}{31.42} = 159$ mA  \n",
    "and  \n",
    "Meaning that $i_C = \\frac{i_R * R}{X_C} \\approx \\frac{5}{\\frac{1}{31.42}} = 157$ A\n",
    "\n",
    "\n",
    "\n"
   ]
  },
  {
   "cell_type": "code",
   "execution_count": 1,
   "metadata": {
    "collapsed": true,
    "deletable": true,
    "editable": true
   },
   "outputs": [],
   "source": [
    "#python is loaded initially in all code cells .. see the Python 3 in the box to the upper right?\n",
    "import numpy\n",
    "from numpy import * #the star means add all numpy functions, if there is an overlap/conflict then numpy wins\n",
    "#this is a code cell .. there should be a number in the brackets after excuting this cell\n",
    "set_printoptions(precision=5,linewidth=120,suppress=True) # percision determines number of numpy decimal places displayed\n",
    "import sympy # not importing all sympy functions, have to put sympy in front of them to use them\n",
    "from sympy import sqrt, symbols, Integral, N, init_printing, pprint, linsolve, S\n",
    "init_printing() # this enables sympy pretty printing (sympy.pprint commands)"
   ]
  },
  {
   "cell_type": "markdown",
   "metadata": {
    "deletable": true,
    "editable": true
   },
   "source": [
    "## 3.4 Phasors Example 1\n",
    "\n",
    "Find the Voltage  $v(t)=50cos(50t+\\frac{\\pi}{6})$ volts in Phasor form 1 and Phasor form 2  \n",
    "Form 1 is $\\displaystyle \\stackrel{\\text{^}}{G} \\displaystyle = G_me^{j\\phi}$  \n",
    "Form 2 is $\\displaystyle \\stackrel{\\text{^}}{G} \\displaystyle = G_m(cos\\phi + j sin\\phi)$    \n",
    "  \n",
    "Here G=50, $\\phi$=$\\frac{\\pi}{6}$ So the first form is $50 e^{\\frac{\\pi}{6}}$ This is also called polar form. \n",
    "\n",
    "The second form called \"rectangular form\" is being computed using sympy:"
   ]
  },
  {
   "cell_type": "code",
   "execution_count": null,
   "metadata": {
    "collapsed": false,
    "deletable": true,
    "editable": true
   },
   "outputs": [],
   "source": [
    "# using sympy\n",
    "G=50\n",
    "theta = sympy.pi/6\n",
    "H=G*(sympy.cos(theta) + sympy.I*sympy.sin(theta))\n",
    "H"
   ]
  },
  {
   "cell_type": "code",
   "execution_count": null,
   "metadata": {
    "collapsed": false,
    "deletable": true,
    "editable": true
   },
   "outputs": [],
   "source": [
    "sympy.N(H)"
   ]
  },
  {
   "cell_type": "markdown",
   "metadata": {
    "deletable": true,
    "editable": true
   },
   "source": [
    "## 3.4 Phasors Example 2\n",
    "Express the following in both phasor forms $v(t) = 40 cos \\omega t - 40 sin \\omega t$  \n",
    "Looking this of the form $A cos(\\omega t) + Bcos(\\omega t)$ in this <a href = https://en.wikibooks.org/wiki/Circuit_Theory/Phasors#Function_transformation_Derivation>table</a>:  \n",
    "\n",
    "![timeToPhasorTranslation](timeToPhasorTranslation.png)\n",
    "\n",
    "Looks like it translates to $40 + 40i$ .. the rectangular phasor form. "
   ]
  },
  {
   "cell_type": "code",
   "execution_count": null,
   "metadata": {
    "collapsed": false,
    "deletable": true,
    "editable": true
   },
   "outputs": [],
   "source": [
    "#sympy\n",
    "V = S(40) + sympy.I*S(40)\n",
    "print('phasor in form 1 polar is ', abs(V), 'at angle ',sympy.arg(V))\n",
    "sympy.Abs(V)"
   ]
  },
  {
   "cell_type": "code",
   "execution_count": null,
   "metadata": {
    "collapsed": false,
    "deletable": true,
    "editable": true
   },
   "outputs": [],
   "source": [
    "#numpy\n",
    "V = 40 + 40*1j\n",
    "absolute(V)\n",
    "print('phasor in form 1 (polar) is', absolute(V),'with e raised to the angle ',angle(V),' or ',angle(V)*180/pi,' in degrees')"
   ]
  },
  {
   "cell_type": "markdown",
   "metadata": {
    "deletable": true,
    "editable": true
   },
   "source": [
    "### 3.4 Phasors Example 3\n",
    "Write this phasor in the time domain $\\displaystyle \\stackrel{\\text{^}}{V} \\displaystyle = 30 + 30j$ V in the time domain.\n",
    "\n"
   ]
  },
  {
   "cell_type": "code",
   "execution_count": null,
   "metadata": {
    "collapsed": false,
    "deletable": true,
    "editable": true
   },
   "outputs": [],
   "source": [
    "#sympy\n",
    "V = S(30) + sympy.I*S(30)\n",
    "print('phasor in form 1 polar is ', abs(V), 'at angle ',sympy.arg(V))\n",
    "sympy.Abs(V)"
   ]
  },
  {
   "cell_type": "code",
   "execution_count": null,
   "metadata": {
    "collapsed": false,
    "deletable": true,
    "editable": true
   },
   "outputs": [],
   "source": [
    "#numpy\n",
    "V = 30 + 30*1j\n",
    "absolute(V)\n",
    "print('phasor in form 1 (polar) is', absolute(V),'with e raised to the angle ',angle(V)*180/pi,' in degrees')"
   ]
  },
  {
   "cell_type": "markdown",
   "metadata": {
    "deletable": true,
    "editable": true
   },
   "source": [
    "So in the time domain, is going to be $42.4cos(\\omega t + 45^o)$ or $30\\sqrt{2}cos(\\omega t + \\frac{\\pi}{4})$"
   ]
  },
  {
   "cell_type": "markdown",
   "metadata": {
    "deletable": true,
    "editable": true
   },
   "source": [
    "In summary the answer in rectangular phasor form is $56.6 cos( \\omega t + 45^o)$ or $40\\sqrt{2}cos( \\omega t + \\frac{\\pi}{4})$"
   ]
  },
  {
   "cell_type": "markdown",
   "metadata": {
    "collapsed": true,
    "deletable": true,
    "editable": true
   },
   "source": [
    "### 3.5 Example 1\n",
    "![Example3-5-1](Example3-5-1.png) \n",
    "\n",
    "L=0 so it is shorted out of the circuit  \n",
    "Equations   \n",
    "4 mesh: \n",
    "$V - V_R - V_C $  \n",
    "2 terminal:\n",
    "$V_R-R*I$  \n",
    "$V_C - I/(\\omega*C*1j)$    \n",
    "\n",
    "\n",
    "Knowns:  \n",
    "$v(t) = 120 \\sqrt{2} cos(\\omega t - \\phi) $  \n",
    "$i(t) = \\frac{50}{1000} sin(\\omega t)$  \n",
    "$\\omega = 120\\pi \\approx 377$  \n",
    "$\\phi = \\frac{5\\pi}{6} = 150^o$  \n",
    "  \n",
    "Unknowns or symbols:\n",
    "$\\omega, C, R, V_C, V_R, V, I$\n",
    "\n",
    "Solving for:\n",
    "$ R, C, V_C, V_R$\n",
    "\n"
   ]
  },
  {
   "cell_type": "code",
   "execution_count": 29,
   "metadata": {
    "collapsed": false
   },
   "outputs": [
    {
     "name": "stdout",
     "output_type": "stream",
     "text": [
      "V is 120*sqrt(2)*(-sqrt(3)/2 - I/2)\n",
      "I is -I/20\n",
      "V/I is 2400*sqrt(2)*I*(-sqrt(3)/2 - I/2)\n"
     ]
    },
    {
     "data": {
      "image/png": "[encoded data removed]",
      "text/latex": [
       "$$\\left\\{\\left ( 1200 \\sqrt{2} - 1200 \\sqrt{6} i, \\quad C, \\quad - 60 \\sqrt{2} \\left(\\sqrt{3} + i\\right), \\quad 0\\right )\\right\\}$$"
      ],
      "text/plain": [
       "{(1200⋅√2 - 1200⋅√6⋅ⅈ, C, -60⋅√2⋅(√3 + ⅈ), 0)}"
      ]
     },
     "execution_count": 29,
     "metadata": {},
     "output_type": "execute_result"
    }
   ],
   "source": [
    "#sympy\n",
    "\n",
    "# converting v(t) to V \n",
    "# Acos(wt-phi)---> Acos(phi)-jAsin(phi)\n",
    "A = 120*sympy.sqrt(2) #amplitude\n",
    "phi=5*sympy.pi/6 #phase\n",
    "V = A*(sympy.cos(phi)-sympy.I*sympy.sin(phi))\n",
    "\n",
    "# converting i(t) to I\n",
    "#Asin(wt) --> -Aj\n",
    "I = -50*sympy.I/1000\n",
    "\n",
    "#Unknowns\n",
    "omega, L,C,R,VL,VC,VR = sympy.symbols('omega L C R VL VC VR', complex=True)\n",
    "print('I is', I)\n",
    "print('V/I is',V/I)\n",
    "\n",
    "#knowns (besides I and V computed earlier)\n",
    "omega = 120*sympy.pi + 0*sympy.I\n",
    "L=0 + 0*sympy.I\n",
    "VL=0 + 0*sympy.I\n",
    "sympy.linsolve([V-VR-VC-VL, VR-R*I,VL-omega*L*I*sympy.I, VC-I/(omega*C*sympy.I)],(R,C,VR,VC))"
   ]
  },
  {
   "cell_type": "code",
   "execution_count": 25,
   "metadata": {
    "collapsed": false
   },
   "outputs": [
    {
     "name": "stdout",
     "output_type": "stream",
     "text": [
      "V is (-146.9693845669907-84.85281374238569j)\n",
      "I is (-0-0.05j)\n"
     ]
    },
    {
     "data": {
      "image/png": "[encoded data removed]",
      "text/latex": [
       "$$\\left [ \\left \\{ C : \\frac{1326291192.43246}{- 500000000000.0 i R + 1.46969384566991 \\cdot 10^{15} + 848528137423857.0 i}\\right \\}\\right ]$$"
      ],
      "text/plain": [
       "⎡⎧                           1326291192.43246                        ⎫⎤\n",
       "⎢⎨C: ────────────────────────────────────────────────────────────────⎬⎥\n",
       "⎣⎩   -500000000000.0⋅ⅈ⋅R + 1.46969384566991e+15 + 848528137423857.0⋅ⅈ⎭⎦"
      ]
     },
     "execution_count": 25,
     "metadata": {},
     "output_type": "execute_result"
    }
   ],
   "source": [
    "#numpy\n",
    "\n",
    "# converting v(t) to V \n",
    "# Acos(wt-phi)---> Acos(phi)-jAsin(phi)\n",
    "A = 120*2**0.5 #amplitude\n",
    "phi=5*pi/6 #phase\n",
    "V = A*(cos(phi)-1j*sin(phi))\n",
    "print('V is',V)\n",
    "\n",
    "# converting i(t) to I\n",
    "#Asin(wt) --> -Aj\n",
    "I = -50*1j/1000\n",
    "print('I is', I)\n",
    "\n",
    "\n",
    "#Unknowns\n",
    "omega, L,C,R,VL,VC,VR = sympy.symbols('omega L C R VL VC VR', complex=True)\n",
    "\n",
    "#knowns (besides I and V computed earlier)\n",
    "omega = 120*pi + 0*1j\n",
    "L=0 +  0*1j\n",
    "VL=0 + 0*1j\n",
    "sympy.solve([V-R*I-I/(omega*C*1j)],(R,C),complex=True)"
   ]
  },
  {
   "cell_type": "code",
   "execution_count": null,
   "metadata": {
    "collapsed": true
   },
   "outputs": [],
   "source": []
  }
 ],
 "metadata": {
  "kernelspec": {
   "display_name": "Python 3",
   "language": "python",
   "name": "python3"
  },
  "language_info": {
   "codemirror_mode": {
    "name": "ipython",
    "version": 3
   },
   "file_extension": ".py",
   "mimetype": "text/x-python",
   "name": "python",
   "nbconvert_exporter": "python",
   "pygments_lexer": "ipython3",
   "version": "3.5.2"
  }
 },
 "nbformat": 4,
 "nbformat_minor": 2
}
