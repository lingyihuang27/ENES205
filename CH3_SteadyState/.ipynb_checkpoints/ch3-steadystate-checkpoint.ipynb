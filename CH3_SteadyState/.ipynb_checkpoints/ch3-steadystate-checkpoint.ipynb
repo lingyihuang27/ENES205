{
 "cells": [
  {
   "cell_type": "markdown",
   "metadata": {
    "deletable": true,
    "editable": true
   },
   "source": [
    "##### Steady State or Homogeneous Phasor Solutions\n",
    "\n",
    "# Example 3-1\n",
    "![example3-1](example3-1.png)  \n",
    "What is the maximum current through a 5 ohm resistor, 5 microHenry inductor, and a 5 nanoFarad capacitor if the frequency is 1 Meg Hz and Voltage max is 5 volts?  \n",
    "  \n",
    "Values:  \n",
    "$f = 10^6 \\frac{cycles}{sec}$ or Hz  \n",
    "$\\omega = 2\\pi f \\frac{radians}{sec}$ or angular velocity  \n",
    "$V = 5cos(\\omega t)$   \n",
    "R = 5 $\\omega$  \n",
    "L = 5 $\\mu$H = $5*10^{-6}$  \n",
    "C = 0.5 nF = $5*10^{-9}$  \n",
    "  \n",
    "Steady State Mesh Equation Time Domain (still use DC sign conventions)  \n",
    "0 = $V(t) - Ri(t) - L\\frac{di(t)}{dt} - \\frac{1}{C}\\int_{-\\infty}^{t}i(\\tau)d\\tau$\n",
    "\n",
    "Steady State Mesh Equation Phasor Domain  \n",
    "$0 = \\displaystyle \\stackrel{\\text{^}}{V} - R\\stackrel{\\text{^}}{I} - \\omega jL\\stackrel{\\text{^}}{I} - \\frac{1}{\\omega jC}\\stackrel{\\text{^}}{I} \\displaystyle$ \n",
    "\n",
    "Solve for $\\displaystyle \\stackrel{\\text{^}}{I} \\displaystyle$  \n",
    "$\\displaystyle \\stackrel{\\text{^}}{I} \\displaystyle = \\frac{\\stackrel{\\text{^}}{V}}{R + \\omega jL + \\frac{1}{\\omega jC}} = \\frac{5}{5+2\\pi j10^65*10^{-6} + \\frac{1}{2\\pi j10^65*10^{-9}}}$  \n",
    "$= \\frac{5}{5+10\\pi j - \\frac{j}{\\pi 10^{-2}}} = \\frac{5}{5 + 31.42j - 31.83j} \\approx 1$  \n",
    "  \n",
    "Move $\\displaystyle \\stackrel{\\text{^}}{I} \\displaystyle$ back into the time domain:  \n",
    "  \n",
    "$i(t) = cos(\\omega t)$  \n",
    "  \n",
    "This is the current through the resistor meaning that the power supply sees just the resistor. Meaning that the capacitor and inductor cancel each other out.  \n",
    "  \n",
    "$i_r$ = 1 amp  \n",
    "  \n",
    "The net voltage across the capacitor and inductor combination is zero from the resitor and power supplies point of view.   \n",
    "  \n",
    "However, they will each have a peak voltage and peak current that can be much larger (or smaller) than the supply.   \n",
    "  \n",
    "While the exact math of this will be covered in Ch7, one can relate the peak voltages of the resistor, capacitor and inductors in this way:  \n",
    "  \n",
    "$i_R R = i_L X_L = i_c X_c$\n",
    "\n",
    "The voltages at any instant add up to 5 volts. These are peak voltages that happen at different times. \n",
    "\n",
    "Meaning that $i_L = \\frac{i_R * R}{X_L} \\approx \\frac{5}{31.42} = 159$ mA  \n",
    "and  \n",
    "Meaning that $i_C = \\frac{i_R * R}{X_C} \\approx \\frac{5}{\\frac{1}{31.42}} = 157$ A\n",
    "\n",
    "\n",
    "\n"
   ]
  },
  {
   "cell_type": "code",
   "execution_count": 1,
   "metadata": {
    "collapsed": true,
    "deletable": true,
    "editable": true
   },
   "outputs": [],
   "source": [
    "#python is loaded initially in all code cells .. see the Python 3 in the box to the upper right?\n",
    "import numpy\n",
    "from numpy import * #the star means add all numpy functions, if there is an overlap/conflict then numpy wins\n",
    "#this is a code cell .. there should be a number in the brackets after excuting this cell\n",
    "set_printoptions(precision=5,linewidth=120,suppress=True) # percision determines number of numpy decimal places displayed\n",
    "import sympy # not importing all sympy functions, have to put sympy in front of them to use them\n",
    "from sympy import sqrt, symbols, Integral, N, init_printing, pprint, linsolve, S\n",
    "init_printing() # this enables sympy pretty printing (sympy.pprint commands)"
   ]
  },
  {
   "cell_type": "markdown",
   "metadata": {
    "deletable": true,
    "editable": true
   },
   "source": [
    "## 3.4 Phasors Example 1\n",
    "\n",
    "Find the Voltage  $v(t)=50cos(50t+\\frac{\\pi}{6})$ volts in Phasor form 1 and Phasor form 2  \n",
    "Form 1 is $\\displaystyle \\stackrel{\\text{^}}{G} \\displaystyle = G_me^{j\\phi}$  \n",
    "Form 2 is $\\displaystyle \\stackrel{\\text{^}}{G} \\displaystyle = G_m(cos\\phi + j sin\\phi)$    \n",
    "  \n",
    "Here G=50, $\\phi$=$\\frac{\\pi}{6}$ So the first form is $50 e^{\\frac{\\pi}{6}}$ This is also called polar form. \n",
    "\n",
    "The second form called \"rectangular form\" is being computed using sympy:"
   ]
  },
  {
   "cell_type": "code",
   "execution_count": 2,
   "metadata": {
    "collapsed": false,
    "deletable": true,
    "editable": true
   },
   "outputs": [
    {
     "data": {
      "image/png": "[encoded data removed]",
      "text/latex": [
       "$$25 \\sqrt{3} + 25 i$$"
      ],
      "text/plain": [
       "25⋅√3 + 25⋅ⅈ"
      ]
     },
     "execution_count": 2,
     "metadata": {},
     "output_type": "execute_result"
    }
   ],
   "source": [
    "# using sympy\n",
    "G=50\n",
    "theta = sympy.pi/6\n",
    "H=G*(sympy.cos(theta) + sympy.I*sympy.sin(theta))\n",
    "H"
   ]
  },
  {
   "cell_type": "code",
   "execution_count": 3,
   "metadata": {
    "collapsed": false,
    "deletable": true,
    "editable": true
   },
   "outputs": [
    {
     "data": {
      "image/png": "[encoded data removed]",
      "text/latex": [
       "$$43.3012701892219 + 25.0 i$$"
      ],
      "text/plain": [
       "43.3012701892219 + 25.0⋅ⅈ"
      ]
     },
     "execution_count": 3,
     "metadata": {},
     "output_type": "execute_result"
    }
   ],
   "source": [
    "sympy.N(H)"
   ]
  },
  {
   "cell_type": "markdown",
   "metadata": {
    "deletable": true,
    "editable": true
   },
   "source": [
    "## 3.4 Phasors Example 2\n",
    "Express the following in both phasor forms $v(t) = 40 cos \\omega t - 40 sin \\omega t$  \n",
    "Looking this of the form $A cos(\\omega t) + Bcos(\\omega t)$ in this <a href = https://en.wikibooks.org/wiki/Circuit_Theory/Phasors#Function_transformation_Derivation>table</a>:  \n",
    "\n",
    "![timeToPhasorTranslation](timeToPhasorTranslation.png)\n",
    "\n",
    "Looks like it translates to $40 + 40i$ .. the rectangular phasor form. "
   ]
  },
  {
   "cell_type": "code",
   "execution_count": 4,
   "metadata": {
    "collapsed": false,
    "deletable": true,
    "editable": true
   },
   "outputs": [
    {
     "name": "stdout",
     "output_type": "stream",
     "text": [
      "phasor in form 1 polar is  40*sqrt(2) at angle  pi/4\n"
     ]
    },
    {
     "data": {
      "image/png": "[encoded data removed]",
      "text/latex": [
       "$$40 \\sqrt{2}$$"
      ],
      "text/plain": [
       "40⋅√2"
      ]
     },
     "execution_count": 4,
     "metadata": {},
     "output_type": "execute_result"
    }
   ],
   "source": [
    "#sympy\n",
    "V = S(40) + sympy.I*S(40)\n",
    "print('phasor in form 1 polar is ', abs(V), 'at angle ',sympy.arg(V))\n",
    "sympy.Abs(V)"
   ]
  },
  {
   "cell_type": "code",
   "execution_count": 5,
   "metadata": {
    "collapsed": false,
    "deletable": true,
    "editable": true
   },
   "outputs": [
    {
     "name": "stdout",
     "output_type": "stream",
     "text": [
      "phasor in form 1 (polar) is 56.5685424949 with e raised to the angle  0.785398163397  or  45.0  in degrees\n"
     ]
    }
   ],
   "source": [
    "#numpy\n",
    "V = 40 + 40*1j\n",
    "absolute(V)\n",
    "print('phasor in form 1 (polar) is', absolute(V),'with e raised to the angle ',angle(V),' or ',angle(V)*180/pi,' in degrees')"
   ]
  },
  {
   "cell_type": "markdown",
   "metadata": {
    "deletable": true,
    "editable": true
   },
   "source": [
    "### 3.4 Phasors Example 3\n",
    "Write this phasor in the time domain $\\displaystyle \\stackrel{\\text{^}}{V} \\displaystyle = 30 + 30j$ V in the time domain.\n",
    "\n"
   ]
  },
  {
   "cell_type": "code",
   "execution_count": 6,
   "metadata": {
    "collapsed": false,
    "deletable": true,
    "editable": true
   },
   "outputs": [
    {
     "name": "stdout",
     "output_type": "stream",
     "text": [
      "phasor in form 1 polar is  30*sqrt(2) at angle  pi/4\n"
     ]
    },
    {
     "data": {
      "image/png": "[encoded data removed]",
      "text/latex": [
       "$$30 \\sqrt{2}$$"
      ],
      "text/plain": [
       "30⋅√2"
      ]
     },
     "execution_count": 6,
     "metadata": {},
     "output_type": "execute_result"
    }
   ],
   "source": [
    "#sympy\n",
    "V = S(30) + sympy.I*S(30)\n",
    "print('phasor in form 1 polar is ', abs(V), 'at angle ',sympy.arg(V))\n",
    "sympy.Abs(V)"
   ]
  },
  {
   "cell_type": "code",
   "execution_count": 7,
   "metadata": {
    "collapsed": false,
    "deletable": true,
    "editable": true
   },
   "outputs": [
    {
     "name": "stdout",
     "output_type": "stream",
     "text": [
      "phasor in form 1 (polar) is 42.4264068712 with e raised to the angle  45.0  in degrees\n"
     ]
    }
   ],
   "source": [
    "#numpy\n",
    "V = 30 + 30*1j\n",
    "absolute(V)\n",
    "print('phasor in form 1 (polar) is', absolute(V),'with e raised to the angle ',angle(V)*180/pi,' in degrees')"
   ]
  },
  {
   "cell_type": "markdown",
   "metadata": {
    "deletable": true,
    "editable": true
   },
   "source": [
    "So in the time domain, is going to be $42.4cos(\\omega t + 45^o)$ or $30\\sqrt{2}cos(\\omega t + \\frac{\\pi}{4})$"
   ]
  },
  {
   "cell_type": "markdown",
   "metadata": {
    "deletable": true,
    "editable": true
   },
   "source": [
    "In summary the answer in rectangular phasor form is $56.6 cos( \\omega t + 45^o)$ or $40\\sqrt{2}cos( \\omega t + \\frac{\\pi}{4})$"
   ]
  },
  {
   "cell_type": "code",
   "execution_count": 8,
   "metadata": {
    "collapsed": false,
    "deletable": true,
    "editable": true
   },
   "outputs": [
    {
     "name": "stdout",
     "output_type": "stream",
     "text": [
      "I is -I/20\n",
      "V is 120*sqrt(2)*(-sqrt(3)/2 - I/2)\n"
     ]
    },
    {
     "data": {
      "image/png": "[encoded data removed]",
      "text/latex": [
       "$$\\left [ \\left \\{ C : \\frac{1}{2400 \\pi \\left(VR + 60 \\sqrt{6} + 60 \\sqrt{2} i\\right)}, \\quad R : 20 i VR, \\quad VC : - VR - 60 \\sqrt{6} - 60 \\sqrt{2} i\\right \\}\\right ]$$"
      ],
      "text/plain": [
       "⎡⎧                 1                                                     ⎫⎤\n",
       "⎢⎨C: ─────────────────────────────, R: 20⋅ⅈ⋅VR, VC: -VR - 60⋅√6 - 60⋅√2⋅ⅈ⎬⎥\n",
       "⎣⎩   2400⋅π⋅(VR + 60⋅√6 + 60⋅√2⋅ⅈ)                                       ⎭⎦"
      ]
     },
     "execution_count": 8,
     "metadata": {},
     "output_type": "execute_result"
    }
   ],
   "source": [
    "#sympy\n",
    "\n",
    "# converting v(t) to V \n",
    "# Acos(wt-phi)---> Acos(phi)-jAsin(phi)\n",
    "A = 120*sympy.sqrt(2) #amplitude\n",
    "phi=5*sympy.pi/6 #phase\n",
    "V = A*(sympy.cos(phi)-sympy.I*sympy.sin(phi))\n",
    "\n",
    "# converting i(t) to I\n",
    "#Asin(wt) --> -Aj\n",
    "I = -50*sympy.I/1000\n",
    "\n",
    "#Unknowns\n",
    "omega, L,C,R,VL,VC,VR = sympy.symbols('omega L C R VL VC VR', complex=True)\n",
    "print('I is', I)\n",
    "print('V is',V)\n",
    "\n",
    "#knowns (besides I and V computed earlier)\n",
    "omega = 120*sympy.pi + 0*sympy.I\n",
    "L=0 + 0*sympy.I\n",
    "VL=0 + 0*sympy.I\n",
    "sympy.solve([V-VR-VC, VR-R*I, VC-I/(omega*C*sympy.I)],(R,C,VR,VC))"
   ]
  },
  {
   "cell_type": "markdown",
   "metadata": {
    "collapsed": true,
    "deletable": true,
    "editable": true
   },
   "source": [
    "# 3.5 Example 1\n",
    "![Example3-5-1](Example3-5-1.png) \n",
    "\n",
    "L=0 so it is shorted out of the circuit  \n",
    "  \n",
    "Have 3 equations   \n",
    "1 mesh: $V - V_R - V_C $  \n",
    "2 terminal: $V_R-R*I$, $V_C - I/(\\omega*C*1j)$    \n",
    "\n",
    "Have 7 Unknowns or symbols:\n",
    "$\\omega, C, R, V_C, V_R, V, I$\n",
    "\n",
    "Have 3 knowns:  \n",
    "$\\omega = 120\\pi \\approx 377$  /this is needed for impedance calculation above  \n",
    "$\\phi = \\frac{5\\pi}{6} = 150^o$  /this unknown collapses into v(t) and i(t), and is not used again  \n",
    "$v(t) = 120 \\sqrt{2} cos(\\omega t - \\phi) \\implies V = 120 \\sqrt{2}(cos(\\frac{5\\pi}{6}) -jsin(\\frac{5\\pi}{6})) $  \n",
    "$i(t) = \\frac{50}{1000} sin(\\omega t) \\implies I = -0.05j$  \n",
    "  \n",
    "7 unknowns - 4 knowns $\\ne$ 4 unknowns: $ R, C, V_C, V_R$\n",
    "\n",
    "Have 3 equations. Need 4 equations to calculate the 4 unknowns. We need another constant or equation.\n",
    "\n",
    "Typically we would know $\\omega, V, R$ and $C$ which is 4 knowns. Knowing the current is not enough to offset the loss of knowing the values of $R$ and $C$. \n",
    "\n",
    "This is called \"[under determined](https://en.wikipedia.org/wiki/Underdetermined_system)\" or \"under constrained\" where are there are fewer equations than unknowns. Solvers respond with relationships between the unknowns (this case) or the $\\emptyset$ or [] symbols.\n",
    "\n",
    "The opposite of this is called \"[over determined(https://en.wikipedia.org/wiki/Overdetermined_system)\" or \"over constrained\". It is a problem when there are more equations than unknowns. Solvers will respond with similar error messages. "
   ]
  },
  {
   "cell_type": "code",
   "execution_count": 9,
   "metadata": {
    "collapsed": false,
    "deletable": true,
    "editable": true
   },
   "outputs": [
    {
     "name": "stdout",
     "output_type": "stream",
     "text": [
      "V is (-146.969384567-84.8528137424j)\n",
      "I is (-0-0.05j)\n"
     ]
    },
    {
     "data": {
      "image/png": "[encoded data removed]",
      "text/latex": [
       "$$\\left [ \\left \\{ C : \\frac{1326291192.43246}{10000000000000.0 VR + 1.46969384566991 \\cdot 10^{15} + 848528137423857.0 i}, \\quad R : 20.0 i VR, \\quad VC : - VR - 146.969384566991 - 84.8528137423857 i\\right \\}\\right ]$$"
      ],
      "text/plain": [
       "⎡⎧                           1326291192.43246                                 \n",
       "⎢⎨C: ────────────────────────────────────────────────────────────────, R: 20.0\n",
       "⎣⎩   10000000000000.0⋅VR + 1.46969384566991e+15 + 848528137423857.0⋅ⅈ         \n",
       "\n",
       "                                                      ⎫⎤\n",
       "⋅ⅈ⋅VR, VC: -VR - 146.969384566991 - 84.8528137423857⋅ⅈ⎬⎥\n",
       "                                                      ⎭⎦"
      ]
     },
     "execution_count": 9,
     "metadata": {},
     "output_type": "execute_result"
    }
   ],
   "source": [
    "#numpy ... numbers but still have to use sympy to solve with them\n",
    "\n",
    "# converting v(t) to V \n",
    "# Acos(wt-phi)---> Acos(phi)-jAsin(phi)\n",
    "A = 120*2**0.5 #amplitude\n",
    "phi=5*pi/6 #phase\n",
    "V = A*(cos(phi)-1j*sin(phi))\n",
    "print('V is',V)\n",
    "\n",
    "# converting i(t) to I\n",
    "#Asin(wt) --> -Aj\n",
    "I = -50*1j/1000\n",
    "print('I is', I)\n",
    "\n",
    "\n",
    "#Unknowns\n",
    "omega, L,C,R,VL,VC,VR = sympy.symbols('omega L C R VL VC VR', complex=True)\n",
    "\n",
    "#knowns (besides I and V computed earlier)\n",
    "omega = 120*pi + 0*1j\n",
    "L=0 +  0*1j\n",
    "VL=0 + 0*1j\n",
    "sympy.solve([V-VR-VC, VR-R*I, VC-I/(omega*C*1j)],(R,C,VR,VC))"
   ]
  },
  {
   "cell_type": "markdown",
   "metadata": {
    "collapsed": true,
    "deletable": true,
    "editable": true
   },
   "source": [
    "## Example 3-6-1\n",
    "![example3-6-1](example3-6-1.png)\n",
    "\n",
    "Find all voltags and currents in symbol format if the two sources and all terminal device values are known.\n",
    "\n",
    "Knowns: $L_1, R_1, C_2, R_3, L_3, V_{S1}, V_{S2}$  \n",
    "8 Unknowns: $v_{L1}, v_{R1}, v_{C2}, v_{R3}, v_{L3}, i_1, i_2, i_3$  \n",
    "8 Equations:  5 + 2 + 1\n",
    "5 Terminal Equations:\n",
    "$V_{L1} - j\\omega*L_1*I_1$  \n",
    "$V_{R1} - R_1*I_1$  \n",
    "$V_{C2}-\\frac{I_2}{\\omega*C_2*1j}$  \n",
    "$V_{R3} - R_3*I_3$  \n",
    "$V_{L3} - j\\omega*L_3*I_3$  \n",
    "2 Mesh Equations:  \n",
    "$V_{S1} - V_{L1} - V_{R1} - V_{C2}$  \n",
    "$V_{S2} - V_{L3} - V_{R3} + V_{C2}$  \n",
    "1 Node Equation:  \n",
    "$I_1 -I_2 -I_3$\n",
    "\n",
    "8 equations = 8 unknowns, should be able to do this\n",
    "hand to type the equations over and over again, can not copy and paste easily from the above "
   ]
  },
  {
   "cell_type": "code",
   "execution_count": 10,
   "metadata": {
    "collapsed": false,
    "deletable": true,
    "editable": true
   },
   "outputs": [
    {
     "data": {
      "image/png": "[encoded data removed]",
      "text/latex": [
       "$$\\left \\{ VC_{2} : \\frac{400.0 VS_{1} \\left(L_{3} w + 20.0 i R_{3}\\right) - 400.0 VS_{2} \\left(L_{1} w + 20.0 i R_{1}\\right)}{- C_{2} L_{1} L_{3} w^{3} - 20.0 i C_{2} L_{1} R_{3} w^{2} - 20.0 i C_{2} L_{3} R_{1} w^{2} + 400.0 C_{2} R_{1} R_{3} w + 400.0 L_{1} w + 400.0 L_{3} w + 8000.0 i R_{1} + 8000.0 i R_{3}}, \\quad VL_{1} : \\frac{L_{1} w \\left(- VS_{1} \\left(C_{2} L_{3} w^{2} + 20.0 i C_{2} R_{3} w - 400.0\\right) + 400.0 VS_{2}\\right)}{- C_{2} L_{1} L_{3} w^{3} - 20.0 i C_{2} L_{1} R_{3} w^{2} - 20.0 i C_{2} L_{3} R_{1} w^{2} + 400.0 C_{2} R_{1} R_{3} w + 400.0 L_{1} w + 400.0 L_{3} w + 8000.0 i R_{1} + 8000.0 i R_{3}}, \\quad VL_{3} : \\frac{L_{3} w \\left(400.0 VS_{1} - VS_{2} \\left(C_{2} L_{1} w^{2} + 20.0 i C_{2} R_{1} w - 400.0\\right)\\right)}{- C_{2} L_{1} L_{3} w^{3} - 20.0 i C_{2} L_{1} R_{3} w^{2} - 20.0 i C_{2} L_{3} R_{1} w^{2} + 400.0 C_{2} R_{1} R_{3} w + 400.0 L_{1} w + 400.0 L_{3} w + 8000.0 i R_{1} + 8000.0 i R_{3}}, \\quad VR_{1} : \\frac{20.0 R_{1} \\left(VS_{1} \\left(- i C_{2} L_{3} w^{2} + 20.0 C_{2} R_{3} w + 400.0 i\\right) + 400.0 i VS_{2}\\right)}{- C_{2} L_{1} L_{3} w^{3} - 20.0 i C_{2} L_{1} R_{3} w^{2} - 20.0 i C_{2} L_{3} R_{1} w^{2} + 400.0 C_{2} R_{1} R_{3} w + 400.0 L_{1} w + 400.0 L_{3} w + 8000.0 i R_{1} + 8000.0 i R_{3}}, \\quad VR_{3} : \\frac{20.0 R_{3} \\left(400.0 i VS_{1} + VS_{2} \\left(- i C_{2} L_{1} w^{2} + 20.0 C_{2} R_{1} w + 400.0 i\\right)\\right)}{- C_{2} L_{1} L_{3} w^{3} - 20.0 i C_{2} L_{1} R_{3} w^{2} - 20.0 i C_{2} L_{3} R_{1} w^{2} + 400.0 C_{2} R_{1} R_{3} w + 400.0 L_{1} w + 400.0 L_{3} w + 8000.0 i R_{1} + 8000.0 i R_{3}}, \\quad i_{1} : \\frac{20.0 VS_{1} \\left(- i C_{2} L_{3} w^{2} + 20.0 C_{2} R_{3} w + 400.0 i\\right) + 8000.0 i VS_{2}}{- C_{2} L_{1} L_{3} w^{3} - 20.0 i C_{2} L_{1} R_{3} w^{2} - 20.0 i C_{2} L_{3} R_{1} w^{2} + 400.0 C_{2} R_{1} R_{3} w + 400.0 L_{1} w + 400.0 L_{3} w + 8000.0 i R_{1} + 8000.0 i R_{3}}, \\quad i_{2} : \\frac{20.0 C_{2} w \\left(- VS_{1} \\left(i L_{3} w - 20.0 R_{3}\\right) + VS_{2} \\left(i L_{1} w - 20.0 R_{1}\\right)\\right)}{- C_{2} L_{1} L_{3} w^{3} - 20.0 i C_{2} L_{1} R_{3} w^{2} - 20.0 i C_{2} L_{3} R_{1} w^{2} + 400.0 C_{2} R_{1} R_{3} w + 400.0 L_{1} w + 400.0 L_{3} w + 8000.0 i R_{1} + 8000.0 i R_{3}}, \\quad i_{3} : \\frac{8000.0 i VS_{1} + 20.0 VS_{2} \\left(- i C_{2} L_{1} w^{2} + 20.0 C_{2} R_{1} w + 400.0 i\\right)}{- C_{2} L_{1} L_{3} w^{3} - 20.0 i C_{2} L_{1} R_{3} w^{2} - 20.0 i C_{2} L_{3} R_{1} w^{2} + 400.0 C_{2} R_{1} R_{3} w + 400.0 L_{1} w + 400.0 L_{3} w + 8000.0 i R_{1} + 8000.0 i R_{3}}\\right \\}$$"
      ],
      "text/plain": [
       "⎧                                                                             \n",
       "⎪                                         400.0⋅(VS₁⋅(L₃⋅w + 20.0⋅ⅈ⋅R₃) - VS₂⋅\n",
       "⎨VC₂: ────────────────────────────────────────────────────────────────────────\n",
       "⎪                 3                    2                    2                 \n",
       "⎩     - C₂⋅L₁⋅L₃⋅w  - 20.0⋅ⅈ⋅C₂⋅L₁⋅R₃⋅w  - 20.0⋅ⅈ⋅C₂⋅L₃⋅R₁⋅w  + 400.0⋅C₂⋅R₁⋅R₃\n",
       "\n",
       "                                                                              \n",
       "(L₁⋅w + 20.0⋅ⅈ⋅R₁))                                                           \n",
       "────────────────────────────────────────────────────────, VL₁: ───────────────\n",
       "                                                                           3  \n",
       "⋅w + 400.0⋅L₁⋅w + 400.0⋅L₃⋅w + 8000.0⋅ⅈ⋅R₁ + 8000.0⋅ⅈ⋅R₃       - C₂⋅L₁⋅L₃⋅w  -\n",
       "\n",
       "                        ⎛      ⎛       2                         ⎞            \n",
       "                   L₁⋅w⋅⎝- VS₁⋅⎝C₂⋅L₃⋅w  + 20.0⋅ⅈ⋅C₂⋅R₃⋅w - 400.0⎠ + 400.0⋅VS₂\n",
       "──────────────────────────────────────────────────────────────────────────────\n",
       "                  2                    2                                      \n",
       " 20.0⋅ⅈ⋅C₂⋅L₁⋅R₃⋅w  - 20.0⋅ⅈ⋅C₂⋅L₃⋅R₁⋅w  + 400.0⋅C₂⋅R₁⋅R₃⋅w + 400.0⋅L₁⋅w + 400\n",
       "\n",
       "⎞                                                                             \n",
       "⎠                                                                            L\n",
       "───────────────────────────────────, VL₃: ────────────────────────────────────\n",
       "                                                      3                    2  \n",
       ".0⋅L₃⋅w + 8000.0⋅ⅈ⋅R₁ + 8000.0⋅ⅈ⋅R₃       - C₂⋅L₁⋅L₃⋅w  - 20.0⋅ⅈ⋅C₂⋅L₁⋅R₃⋅w  -\n",
       "\n",
       "    ⎛                ⎛       2                         ⎞⎞                     \n",
       "₃⋅w⋅⎝400.0⋅VS₁ - VS₂⋅⎝C₂⋅L₁⋅w  + 20.0⋅ⅈ⋅C₂⋅R₁⋅w - 400.0⎠⎠                     \n",
       "──────────────────────────────────────────────────────────────────────────────\n",
       "                  2                                                           \n",
       " 20.0⋅ⅈ⋅C₂⋅L₃⋅R₁⋅w  + 400.0⋅C₂⋅R₁⋅R₃⋅w + 400.0⋅L₁⋅w + 400.0⋅L₃⋅w + 8000.0⋅ⅈ⋅R₁\n",
       "\n",
       "                                                           ⎛    ⎛           2 \n",
       "                                                   20.0⋅R₁⋅⎝VS₁⋅⎝- ⅈ⋅C₂⋅L₃⋅w  \n",
       "──────────────, VR₁: ─────────────────────────────────────────────────────────\n",
       "                                 3                    2                    2  \n",
       " + 8000.0⋅ⅈ⋅R₃       - C₂⋅L₁⋅L₃⋅w  - 20.0⋅ⅈ⋅C₂⋅L₁⋅R₃⋅w  - 20.0⋅ⅈ⋅C₂⋅L₃⋅R₁⋅w  +\n",
       "\n",
       "                        ⎞              ⎞                                      \n",
       "+ 20.0⋅C₂⋅R₃⋅w + 400.0⋅ⅈ⎠ + 400.0⋅ⅈ⋅VS₂⎠                                      \n",
       "───────────────────────────────────────────────────────────────────────, VR₃: \n",
       "                                                                              \n",
       " 400.0⋅C₂⋅R₁⋅R₃⋅w + 400.0⋅L₁⋅w + 400.0⋅L₃⋅w + 8000.0⋅ⅈ⋅R₁ + 8000.0⋅ⅈ⋅R₃       \n",
       "\n",
       "                                      ⎛                  ⎛           2        \n",
       "                              20.0⋅R₃⋅⎝400.0⋅ⅈ⋅VS₁ + VS₂⋅⎝- ⅈ⋅C₂⋅L₁⋅w  + 20.0⋅\n",
       "──────────────────────────────────────────────────────────────────────────────\n",
       "            3                    2                    2                       \n",
       "- C₂⋅L₁⋅L₃⋅w  - 20.0⋅ⅈ⋅C₂⋅L₁⋅R₃⋅w  - 20.0⋅ⅈ⋅C₂⋅L₃⋅R₁⋅w  + 400.0⋅C₂⋅R₁⋅R₃⋅w + 4\n",
       "\n",
       "                 ⎞⎞                                                           \n",
       "C₂⋅R₁⋅w + 400.0⋅ⅈ⎠⎠                                                           \n",
       "──────────────────────────────────────────────────, i₁: ──────────────────────\n",
       "                                                                    3         \n",
       "00.0⋅L₁⋅w + 400.0⋅L₃⋅w + 8000.0⋅ⅈ⋅R₁ + 8000.0⋅ⅈ⋅R₃      - C₂⋅L₁⋅L₃⋅w  - 20.0⋅ⅈ\n",
       "\n",
       "               ⎛    ⎛           2                         ⎞              ⎞    \n",
       "          20.0⋅⎝VS₁⋅⎝- ⅈ⋅C₂⋅L₃⋅w  + 20.0⋅C₂⋅R₃⋅w + 400.0⋅ⅈ⎠ + 400.0⋅ⅈ⋅VS₂⎠    \n",
       "──────────────────────────────────────────────────────────────────────────────\n",
       "           2                    2                                             \n",
       "⋅C₂⋅L₁⋅R₃⋅w  - 20.0⋅ⅈ⋅C₂⋅L₃⋅R₁⋅w  + 400.0⋅C₂⋅R₁⋅R₃⋅w + 400.0⋅L₁⋅w + 400.0⋅L₃⋅w\n",
       "\n",
       "                                                                              \n",
       "                                                                    20.0⋅C₂⋅w⋅\n",
       "────────────────────────────, i₂: ────────────────────────────────────────────\n",
       "                                              3                    2          \n",
       " + 8000.0⋅ⅈ⋅R₁ + 8000.0⋅ⅈ⋅R₃      - C₂⋅L₁⋅L₃⋅w  - 20.0⋅ⅈ⋅C₂⋅L₁⋅R₃⋅w  - 20.0⋅ⅈ⋅\n",
       "\n",
       "                                                                              \n",
       "(-VS₁⋅(ⅈ⋅L₃⋅w - 20.0⋅R₃) + VS₂⋅(ⅈ⋅L₁⋅w - 20.0⋅R₁))                            \n",
       "──────────────────────────────────────────────────────────────────────────────\n",
       "          2                                                                   \n",
       "C₂⋅L₃⋅R₁⋅w  + 400.0⋅C₂⋅R₁⋅R₃⋅w + 400.0⋅L₁⋅w + 400.0⋅L₃⋅w + 8000.0⋅ⅈ⋅R₁ + 8000.\n",
       "\n",
       "                                                 ⎛                  ⎛         \n",
       "                                            20.0⋅⎝400.0⋅ⅈ⋅VS₁ + VS₂⋅⎝- ⅈ⋅C₂⋅L₁\n",
       "──────, i₃: ──────────────────────────────────────────────────────────────────\n",
       "                        3                    2                    2           \n",
       "0⋅ⅈ⋅R₃      - C₂⋅L₁⋅L₃⋅w  - 20.0⋅ⅈ⋅C₂⋅L₁⋅R₃⋅w  - 20.0⋅ⅈ⋅C₂⋅L₃⋅R₁⋅w  + 400.0⋅C₂\n",
       "\n",
       "  2                         ⎞⎞                                ⎫\n",
       "⋅w  + 20.0⋅C₂⋅R₁⋅w + 400.0⋅ⅈ⎠⎠                                ⎪\n",
       "──────────────────────────────────────────────────────────────⎬\n",
       "                                                              ⎪\n",
       "⋅R₁⋅R₃⋅w + 400.0⋅L₁⋅w + 400.0⋅L₃⋅w + 8000.0⋅ⅈ⋅R₁ + 8000.0⋅ⅈ⋅R₃⎭"
      ]
     },
     "execution_count": 10,
     "metadata": {},
     "output_type": "execute_result"
    }
   ],
   "source": [
    "L1,R1,C2,R3,L3,VS1,VS2,VL1,VR1,VC2,VR3,VL3,i1,i2,i3,w = symbols('L1 R1 C2 R3 L3 VS1 VS2 VL1 VR1 VC2 VR3 VL3 i1 i2 i3 w')\n",
    "sympy.simplify(sympy.solve([VL1-I*w*L1*i1,VR1-R1*i1,VC2-i2/(w*C2*I),VR3-R3*i3,VL3-I*w*L3*i3,VS1-VL1-VR1-VC2,VS2-VL3-VR3+VC2,i1-i2-i3],(VL1,VR1,VC2,VR3,VL3,i1,i2,i3)))\n"
   ]
  },
  {
   "cell_type": "markdown",
   "metadata": {
    "deletable": true,
    "editable": true
   },
   "source": [
    "## Example 3-6-2\n",
    "![example3-6-2](example3-6-2.png)\n",
    "Find all voltages and currents if all terminal device values are known and the two sources are known:  \n",
    "$v_{s1}(t) = M_{Vs1} cos(\\omega t + \\phi_{Vs1}) \\implies V_{S1} = M_{Vs1}*(cos(\\phi_{Vs1}) + I*sin(\\phi_{Vs1}))$  \n",
    "$i_{s2}(t) = M_{Is2} cos(\\omega t + \\phi_{Is2}) \\implies I_{S2} = M_{Is2}*(cos(\\phi_{Is2}) + I*sin(\\phi_{Is2}))$  \n",
    "\n",
    "But the phase and magnitude symbols are going to add more clutter to the circuit. So leaving $V_{S1} and I_{S2}$\n",
    "\n",
    "10 Knowns: $C_1, R_1, R_2, L_2, R_3, R_4, L_4, V_{s1}, I_{s2}, \\omega$   \n",
    "13 Unknowns: $i_x, i_1, i_2, i_3, i_4, V_x, V_{R1}, V_{C1}, V_{R2}, V_{L2}, V_{R3}, V_{R4}, V_{L4}$ \n",
    "\n",
    "13 Equations:  \n",
    "7 Terminal Equations:  \n",
    "$V_{L2} - I*\\omega*L_2*i_2$  \n",
    "$V_{R1} - R_1*i_1$  \n",
    "$V_{R2} - R_2*i_2$  \n",
    "$V_{C1}-\\frac{i_1}{\\omega*C_1*I}$   \n",
    "$V_{L4} - I*\\omega*L_4*i_4$  \n",
    "$V_{R3} - R_3*i_3$  \n",
    "$V_{R4} - R_4*i_4$  \n",
    "3 Mesh Equations:  \n",
    "$V_{S1}-V_{R1}-V_{C1}$   \n",
    "$V_{R2}+V_{L2}+V_{R3}-V_{C1}-V_{R1}$  \n",
    "$V_x-V_{L4}-V_{R4}-V_{R3}$  \n",
    "2 Node Equations:  \n",
    "$i_x-i_1-i_2$  \n",
    "$i_2+i_4-i_3$  \n",
    "1 Trivial Node Equation:  \n",
    "$i_{s2}-i_4$  \n",
    "\n",
    "\n",
    "\n"
   ]
  },
  {
   "cell_type": "code",
   "execution_count": 11,
   "metadata": {
    "collapsed": false,
    "deletable": true,
    "editable": true
   },
   "outputs": [
    {
     "data": {
      "image/png": "[encoded data removed]",
      "text/latex": [
       "$$\\left \\{ VC_{1} : \\frac{20.0 VS_{1} \\left(L_{2} w + 20.0 i R_{2} + 20.0 i R_{3}\\right)}{- i C_{1} L_{2} R_{1} w^{2} + 20.0 C_{1} R_{1} R_{2} w + 20.0 C_{1} R_{1} R_{3} w + 20.0 L_{2} w + 400.0 i R_{2} + 400.0 i R_{3}}, \\quad VL_{2} : \\frac{L_{2} w \\left(R_{3} is_{2} - VS_{1}\\right) \\left(i C_{1} R_{1} w - 20.0\\right)}{- i C_{1} L_{2} R_{1} w^{2} + 20.0 C_{1} R_{1} R_{2} w + 20.0 C_{1} R_{1} R_{3} w + 20.0 L_{2} w + 400.0 i R_{2} + 400.0 i R_{3}}, \\quad VL_{4} : \\frac{0.05 L_{4} is_{2} w \\left(C_{1} L_{2} R_{1} w^{2} + 20.0 i C_{1} R_{1} R_{2} w + 20.0 i C_{1} R_{1} R_{3} w + 20.0 i L_{2} w - 400.0 R_{2} - 400.0 R_{3}\\right)}{i C_{1} L_{2} R_{1} w^{2} - 20.0 C_{1} R_{1} R_{2} w - 20.0 C_{1} R_{1} R_{3} w - 20.0 L_{2} w - 400.0 i R_{2} - 400.0 i R_{3}}, \\quad VR_{1} : \\frac{C_{1} R_{1} VS_{1} w \\left(- i L_{2} w + 20.0 R_{2} + 20.0 R_{3}\\right)}{- i C_{1} L_{2} R_{1} w^{2} + 20.0 C_{1} R_{1} R_{2} w + 20.0 C_{1} R_{1} R_{3} w + 20.0 L_{2} w + 400.0 i R_{2} + 400.0 i R_{3}}, \\quad VR_{2} : \\frac{20.0 R_{2} \\left(- R_{3} is_{2} + VS_{1}\\right) \\left(C_{1} R_{1} w + 20.0 i\\right)}{- i C_{1} L_{2} R_{1} w^{2} + 20.0 C_{1} R_{1} R_{2} w + 20.0 C_{1} R_{1} R_{3} w + 20.0 L_{2} w + 400.0 i R_{2} + 400.0 i R_{3}}, \\quad VR_{3} : \\frac{R_{3} \\left(20.0 VS_{1} \\left(C_{1} R_{1} w + 20.0 i\\right) + is_{2} \\left(- i C_{1} L_{2} R_{1} w^{2} + 20.0 C_{1} R_{1} R_{2} w + 20.0 L_{2} w + 400.0 i R_{2}\\right)\\right)}{- i C_{1} L_{2} R_{1} w^{2} + 20.0 C_{1} R_{1} R_{2} w + 20.0 C_{1} R_{1} R_{3} w + 20.0 L_{2} w + 400.0 i R_{2} + 400.0 i R_{3}}, \\quad VR_{4} : R_{4} is_{2}, \\quad Vx : \\frac{1}{- i C_{1} L_{2} R_{1} w^{2} + 20.0 C_{1} R_{1} R_{2} w + 20.0 C_{1} R_{1} R_{3} w + 20.0 L_{2} w + 400.0 i R_{2} + 400.0 i R_{3}} \\left(20.0 R_{3} VS_{1} \\left(C_{1} R_{1} w + 20.0 i\\right) + 0.05 is_{2} \\left(- C_{1} L_{2} L_{4} R_{1} w^{3} - 20.0 i C_{1} L_{2} R_{1} R_{3} w^{2} - 20.0 i C_{1} L_{2} R_{1} R_{4} w^{2} - 20.0 i C_{1} L_{4} R_{1} R_{2} w^{2} - 20.0 i C_{1} L_{4} R_{1} R_{3} w^{2} + 400.0 C_{1} R_{1} R_{2} R_{3} w + 400.0 C_{1} R_{1} R_{2} R_{4} w + 400.0 C_{1} R_{1} R_{3} R_{4} w - 20.0 i L_{2} L_{4} w^{2} + 400.0 L_{2} R_{3} w + 400.0 L_{2} R_{4} w + 400.0 L_{4} R_{2} w + 400.0 L_{4} R_{3} w + 8000.0 i R_{2} R_{3} + 8000.0 i R_{2} R_{4} + 8000.0 i R_{3} R_{4}\\right)\\right), \\quad i_{1} : \\frac{C_{1} VS_{1} w \\left(- i L_{2} w + 20.0 R_{2} + 20.0 R_{3}\\right)}{- i C_{1} L_{2} R_{1} w^{2} + 20.0 C_{1} R_{1} R_{2} w + 20.0 C_{1} R_{1} R_{3} w + 20.0 L_{2} w + 400.0 i R_{2} + 400.0 i R_{3}}, \\quad i_{2} : \\frac{20.0 \\left(- R_{3} is_{2} + VS_{1}\\right) \\left(C_{1} R_{1} w + 20.0 i\\right)}{- i C_{1} L_{2} R_{1} w^{2} + 20.0 C_{1} R_{1} R_{2} w + 20.0 C_{1} R_{1} R_{3} w + 20.0 L_{2} w + 400.0 i R_{2} + 400.0 i R_{3}}, \\quad i_{3} : \\frac{20.0 VS_{1} \\left(C_{1} R_{1} w + 20.0 i\\right) + is_{2} \\left(- i C_{1} L_{2} R_{1} w^{2} + 20.0 C_{1} R_{1} R_{2} w + 20.0 L_{2} w + 400.0 i R_{2}\\right)}{- i C_{1} L_{2} R_{1} w^{2} + 20.0 C_{1} R_{1} R_{2} w + 20.0 C_{1} R_{1} R_{3} w + 20.0 L_{2} w + 400.0 i R_{2} + 400.0 i R_{3}}, \\quad i_{4} : is_{2}, \\quad ix : \\frac{- 20.0 R_{3} is_{2} \\left(C_{1} R_{1} w + 20.0 i\\right) + VS_{1} \\left(- i C_{1} L_{2} w^{2} + 20.0 C_{1} R_{1} w + 20.0 C_{1} R_{2} w + 20.0 C_{1} R_{3} w + 400.0 i\\right)}{- i C_{1} L_{2} R_{1} w^{2} + 20.0 C_{1} R_{1} R_{2} w + 20.0 C_{1} R_{1} R_{3} w + 20.0 L_{2} w + 400.0 i R_{2} + 400.0 i R_{3}}\\right \\}$$"
      ],
      "text/plain": [
       "⎧                                                                             \n",
       "⎪                              20.0⋅VS₁⋅(L₂⋅w + 20.0⋅ⅈ⋅R₂ + 20.0⋅ⅈ⋅R₃)        \n",
       "⎨VC₁: ────────────────────────────────────────────────────────────────────────\n",
       "⎪                   2                                                         \n",
       "⎩     - ⅈ⋅C₁⋅L₂⋅R₁⋅w  + 20.0⋅C₁⋅R₁⋅R₂⋅w + 20.0⋅C₁⋅R₁⋅R₃⋅w + 20.0⋅L₂⋅w + 400.0⋅\n",
       "\n",
       "                                                                              \n",
       "                                                  L₂⋅w⋅(R₃⋅is₂ - VS₁)⋅(ⅈ⋅C₁⋅R₁\n",
       "─────────────────, VL₂: ──────────────────────────────────────────────────────\n",
       "                                      2                                       \n",
       "ⅈ⋅R₂ + 400.0⋅ⅈ⋅R₃       - ⅈ⋅C₁⋅L₂⋅R₁⋅w  + 20.0⋅C₁⋅R₁⋅R₂⋅w + 20.0⋅C₁⋅R₁⋅R₃⋅w + \n",
       "\n",
       "                                                        ⎛          2          \n",
       "⋅w - 20.0)                                0.05⋅L₄⋅is₂⋅w⋅⎝C₁⋅L₂⋅R₁⋅w  + 20.0⋅ⅈ⋅\n",
       "───────────────────────────────────, VL₄: ────────────────────────────────────\n",
       "                                                              2               \n",
       "20.0⋅L₂⋅w + 400.0⋅ⅈ⋅R₂ + 400.0⋅ⅈ⋅R₃               ⅈ⋅C₁⋅L₂⋅R₁⋅w  - 20.0⋅C₁⋅R₁⋅R\n",
       "\n",
       "                                                                  ⎞           \n",
       "C₁⋅R₁⋅R₂⋅w + 20.0⋅ⅈ⋅C₁⋅R₁⋅R₃⋅w + 20.0⋅ⅈ⋅L₂⋅w - 400.0⋅R₂ - 400.0⋅R₃⎠           \n",
       "───────────────────────────────────────────────────────────────────, VR₁: ────\n",
       "                                                                              \n",
       "₂⋅w - 20.0⋅C₁⋅R₁⋅R₃⋅w - 20.0⋅L₂⋅w - 400.0⋅ⅈ⋅R₂ - 400.0⋅ⅈ⋅R₃               - ⅈ⋅\n",
       "\n",
       "                                                                              \n",
       "                    C₁⋅R₁⋅VS₁⋅w⋅(-ⅈ⋅L₂⋅w + 20.0⋅R₂ + 20.0⋅R₃)                 \n",
       "──────────────────────────────────────────────────────────────────────────────\n",
       "          2                                                                   \n",
       "C₁⋅L₂⋅R₁⋅w  + 20.0⋅C₁⋅R₁⋅R₂⋅w + 20.0⋅C₁⋅R₁⋅R₃⋅w + 20.0⋅L₂⋅w + 400.0⋅ⅈ⋅R₂ + 400\n",
       "\n",
       "                                                                              \n",
       "                                      20.0⋅R₂⋅(-R₃⋅is₂ + VS₁)⋅(C₁⋅R₁⋅w + 20.0⋅\n",
       "───────, VR₂: ────────────────────────────────────────────────────────────────\n",
       "                            2                                                 \n",
       ".0⋅ⅈ⋅R₃       - ⅈ⋅C₁⋅L₂⋅R₁⋅w  + 20.0⋅C₁⋅R₁⋅R₂⋅w + 20.0⋅C₁⋅R₁⋅R₃⋅w + 20.0⋅L₂⋅w \n",
       "\n",
       "                                   ⎛                                  ⎛       \n",
       "ⅈ)                              R₃⋅⎝20.0⋅VS₁⋅(C₁⋅R₁⋅w + 20.0⋅ⅈ) + is₂⋅⎝- ⅈ⋅C₁⋅\n",
       "─────────────────────────, VR₃: ──────────────────────────────────────────────\n",
       "                                                   2                          \n",
       "+ 400.0⋅ⅈ⋅R₂ + 400.0⋅ⅈ⋅R₃            - ⅈ⋅C₁⋅L₂⋅R₁⋅w  + 20.0⋅C₁⋅R₁⋅R₂⋅w + 20.0⋅\n",
       "\n",
       "       2                                           ⎞⎞                        ⎛\n",
       "L₂⋅R₁⋅w  + 20.0⋅C₁⋅R₁⋅R₂⋅w + 20.0⋅L₂⋅w + 400.0⋅ⅈ⋅R₂⎠⎠                   0.05⋅⎝\n",
       "─────────────────────────────────────────────────────, VR₄: R₄⋅is₂, Vx: ──────\n",
       "                                                                              \n",
       "C₁⋅R₁⋅R₃⋅w + 20.0⋅L₂⋅w + 400.0⋅ⅈ⋅R₂ + 400.0⋅ⅈ⋅R₃                              \n",
       "\n",
       "                                      ⎛               3                       \n",
       "400.0⋅R₃⋅VS₁⋅(C₁⋅R₁⋅w + 20.0⋅ⅈ) + is₂⋅⎝- C₁⋅L₂⋅L₄⋅R₁⋅w  - 20.0⋅ⅈ⋅C₁⋅L₂⋅R₁⋅R₃⋅w\n",
       "──────────────────────────────────────────────────────────────────────────────\n",
       "                                                                              \n",
       "                                                                              \n",
       "\n",
       "2                       2                       2                       2     \n",
       "  - 20.0⋅ⅈ⋅C₁⋅L₂⋅R₁⋅R₄⋅w  - 20.0⋅ⅈ⋅C₁⋅L₄⋅R₁⋅R₂⋅w  - 20.0⋅ⅈ⋅C₁⋅L₄⋅R₁⋅R₃⋅w  + 40\n",
       "──────────────────────────────────────────────────────────────────────────────\n",
       "                                                                2             \n",
       "                                                  - ⅈ⋅C₁⋅L₂⋅R₁⋅w  + 20.0⋅C₁⋅R₁\n",
       "\n",
       "                                                                              \n",
       "0.0⋅C₁⋅R₁⋅R₂⋅R₃⋅w + 400.0⋅C₁⋅R₁⋅R₂⋅R₄⋅w + 400.0⋅C₁⋅R₁⋅R₃⋅R₄⋅w - 20.0⋅ⅈ⋅L₂⋅L₄⋅w\n",
       "──────────────────────────────────────────────────────────────────────────────\n",
       "                                                                              \n",
       "⋅R₂⋅w + 20.0⋅C₁⋅R₁⋅R₃⋅w + 20.0⋅L₂⋅w + 400.0⋅ⅈ⋅R₂ + 400.0⋅ⅈ⋅R₃                 \n",
       "\n",
       "2                                                                             \n",
       "  + 400.0⋅L₂⋅R₃⋅w + 400.0⋅L₂⋅R₄⋅w + 400.0⋅L₄⋅R₂⋅w + 400.0⋅L₄⋅R₃⋅w + 8000.0⋅ⅈ⋅R\n",
       "──────────────────────────────────────────────────────────────────────────────\n",
       "                                                                              \n",
       "                                                                              \n",
       "\n",
       "                                      ⎞⎞                                      \n",
       "₂⋅R₃ + 8000.0⋅ⅈ⋅R₂⋅R₄ + 8000.0⋅ⅈ⋅R₃⋅R₄⎠⎠                                C₁⋅VS₁\n",
       "────────────────────────────────────────, i₁: ────────────────────────────────\n",
       "                                                            2                 \n",
       "                                              - ⅈ⋅C₁⋅L₂⋅R₁⋅w  + 20.0⋅C₁⋅R₁⋅R₂⋅\n",
       "\n",
       "                                                                              \n",
       "⋅w⋅(-ⅈ⋅L₂⋅w + 20.0⋅R₂ + 20.0⋅R₃)                                              \n",
       "─────────────────────────────────────────────────────────, i₂: ───────────────\n",
       "                                                                             2\n",
       "w + 20.0⋅C₁⋅R₁⋅R₃⋅w + 20.0⋅L₂⋅w + 400.0⋅ⅈ⋅R₂ + 400.0⋅ⅈ⋅R₃      - ⅈ⋅C₁⋅L₂⋅R₁⋅w \n",
       "\n",
       "                                                                              \n",
       "          20.0⋅(-R₃⋅is₂ + VS₁)⋅(C₁⋅R₁⋅w + 20.0⋅ⅈ)                             \n",
       "──────────────────────────────────────────────────────────────────────────, i₃\n",
       "                                                                              \n",
       " + 20.0⋅C₁⋅R₁⋅R₂⋅w + 20.0⋅C₁⋅R₁⋅R₃⋅w + 20.0⋅L₂⋅w + 400.0⋅ⅈ⋅R₂ + 400.0⋅ⅈ⋅R₃    \n",
       "\n",
       "                                    ⎛              2                          \n",
       "  20.0⋅VS₁⋅(C₁⋅R₁⋅w + 20.0⋅ⅈ) + is₂⋅⎝- ⅈ⋅C₁⋅L₂⋅R₁⋅w  + 20.0⋅C₁⋅R₁⋅R₂⋅w + 20.0⋅\n",
       ": ────────────────────────────────────────────────────────────────────────────\n",
       "                  2                                                           \n",
       "    - ⅈ⋅C₁⋅L₂⋅R₁⋅w  + 20.0⋅C₁⋅R₁⋅R₂⋅w + 20.0⋅C₁⋅R₁⋅R₃⋅w + 20.0⋅L₂⋅w + 400.0⋅ⅈ⋅\n",
       "\n",
       "                 ⎞                                                     ⎛      \n",
       "L₂⋅w + 400.0⋅ⅈ⋅R₂⎠               -20.0⋅R₃⋅is₂⋅(C₁⋅R₁⋅w + 20.0⋅ⅈ) + VS₁⋅⎝- ⅈ⋅C₁\n",
       "──────────────────, i₄: is₂, ix: ─────────────────────────────────────────────\n",
       "                                                        2                     \n",
       "R₂ + 400.0⋅ⅈ⋅R₃                           - ⅈ⋅C₁⋅L₂⋅R₁⋅w  + 20.0⋅C₁⋅R₁⋅R₂⋅w + \n",
       "\n",
       "     2                                                       ⎞⎫\n",
       "⋅L₂⋅w  + 20.0⋅C₁⋅R₁⋅w + 20.0⋅C₁⋅R₂⋅w + 20.0⋅C₁⋅R₃⋅w + 400.0⋅ⅈ⎠⎪\n",
       "──────────────────────────────────────────────────────────────⎬\n",
       "                                                              ⎪\n",
       "20.0⋅C₁⋅R₁⋅R₃⋅w + 20.0⋅L₂⋅w + 400.0⋅ⅈ⋅R₂ + 400.0⋅ⅈ⋅R₃         ⎭"
      ]
     },
     "execution_count": 11,
     "metadata": {},
     "output_type": "execute_result"
    }
   ],
   "source": [
    "C1,R1,R2,L2,R3,R4,L4,Vs1,is2,w,ix,i1,i2,i3,i4,Vx,VR1,VC1,VR2,VL2,VR3,VR4,VL4 = symbols('C1 R1 R2 L2 R3 R4 L4 Vs1 is2 w ix i1 i2 i3 i4 Vx VR1 VC1 VR2 VL2 VR3 VR4 VL4')\n",
    "#sympy.simplify(sympy.solve([VL2-I*w*L2*i2,VR1-R1*i1,VR2-R2*i2,VR3-R3*i3,],(VL1,VR1,VC1,VR3,VL2,i1,i2,i3)))\n",
    "sympy.solve([VL2-I*w*L2*i2,VL4-I*w*L4*i4,VR1-R1*i1,VR2-R2*i2,VR3-R3*i3,VR4-R4*i4,VC1-(i1/(w*C1*I)),VS1-VR1-VC1,VR2+VL2+VR3-VC1-VR1,is2-i4,ix-i1-i2,i2+i4-i3,Vx-VL4-VR4-VR3],(ix,i1,i2,i3,i4,Vx,VR1,VC1,VR2,VL2,VR3,VR4,VL4))"
   ]
  },
  {
   "cell_type": "markdown",
   "metadata": {
    "collapsed": true,
    "deletable": true,
    "editable": true
   },
   "source": [
    "# Points:\n",
    "Every multiplication, addition, subtraction, division above results in error, whether done with calculator or computer.  \n",
    "If not careful, the numerical answer is meaningless.   \n",
    "Symbolic above is more accurate than numerical will ever be.  \n",
    "\n",
    "Resistance, Capacitance, Inductance have to be real and positive if they are unknowns.    \n",
    "Only works well when R,C,L are real, positive constants. All other symbols are then complex.  \n",
    "Voltages and currents can then be negative or positive, real or complex.    \n",
    "Mixing real and complex numeric calculations is a challenge.   \n",
    "\n",
    "Every multiply involving complex numbers is actually 4 multiplies and 2 adds.   \n",
    "Computation can grind to a halt.   \n",
    "The symbolic world pictured above hasn't dealt with these challenges.   \n",
    "There is a denominator that could go to zero.  \n",
    "Not much danger in the numerator blowing up.     \n",
    "\n",
    "Looks like powers of 2 and 10 are the coefficients involved. Why is this?    \n",
    "\n",
    "Given that $\\omega$ ends up being raised to a power means that there are multiple roots if an unknown.   $\\omega$ is almost impossible to determine unless the circuit is trivial. Maybe this is an NP complete problem?   Assume that omega is known.   \n",
    "\n",
    "Depending upon what your unknowns are, there may be multiple answers.    \n",
    "\n",
    "We have already assumed that the driving source has one $\\omega$ and that the repeating pattern is sinusoidal. This is already a stretch. This analytical thinking appears to be only useful in trivial situations. The above circuit is not trivial. \n",
    "\n",
    "What happens when we begin using R,L,C to model the physical world? Is nature trivial? A chaos creeps into any system physically vibrating, any bird call, any wireless communication. There seems to be many $\\omega$. Everything is reactive. The leaf on a tree delays and muffles a bird call. A stone wall echoes it perfectly.  The mixture of the reflecting pressure waves creates a $\\omega$ chaos that makes the above analytical techniques impossible. \n",
    "\n",
    "On the other side of the chaos are numerical techniques.  This is the reason for ENES-222 course which asks the question: \"What is $\\omega$?\". The ENES-222 course explores answers with one of the top 10 numerical techniques called the \"[FFT algorithm](https://en.wikipedia.org/wiki/Fast_Fourier_transform).\" More generally, the various math techniques or algorithms that try to find pattern in chaos are called \"[numerical analysis](https://en.wikipedia.org/wiki/Numerical_analysis).\"  Numerical analysis is not born out of first principle or logic. It is a math or algorithm born in an empirical situation .. an observed chaos and a desired result that depends upon finding something in the chaos.  "
   ]
  },
  {
   "cell_type": "code",
   "execution_count": null,
   "metadata": {
    "collapsed": true
   },
   "outputs": [],
   "source": []
  }
 ],
 "metadata": {
  "kernelspec": {
   "display_name": "Python 3",
   "language": "python",
   "name": "python3"
  },
  "language_info": {
   "codemirror_mode": {
    "name": "ipython",
    "version": 3
   },
   "file_extension": ".py",
   "mimetype": "text/x-python",
   "name": "python",
   "nbconvert_exporter": "python",
   "pygments_lexer": "ipython3",
   "version": "3.5.2"
  }
 },
 "nbformat": 4,
 "nbformat_minor": 2
}
