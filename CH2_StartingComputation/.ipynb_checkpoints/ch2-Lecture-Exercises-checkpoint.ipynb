{
 "cells": [
  {
   "cell_type": "markdown",
   "metadata": {
    "deletable": true,
    "editable": true
   },
   "source": [
    "# Lecture 2.3 Exercise 1\n",
    "There are three exercises in [Lecture2.3Exercises](https://docs.google.com/document/d/1um_IHP0sm5E8bNT7grNfEdx0Dp5V2nAT7_OLX94qj9o/edit?usp=sharing) associated with Lecture 2\n",
    "\n",
    "![lecture2-3exercise](Lecture2-3exercise1.png)"
   ]
  },
  {
   "cell_type": "code",
   "execution_count": 3,
   "metadata": {
    "collapsed": true,
    "deletable": true,
    "editable": true
   },
   "outputs": [],
   "source": [
    "#python is loaded initially in all code cells .. see the Python 3 in the box to the upper right?\n",
    "import numpy\n",
    "from numpy import * #the star means add all numpy functions, if there is an overlap/conflict then numpy wins\n",
    "#this is a code cell .. there should be a number in the brackets after excuting this cell\n",
    "set_printoptions(precision=5,linewidth=120,suppress=True) # percision determines number of numpy decimal places displayed\n",
    "import sympy # not importing all sympy functions, have to put sympy in front of them to use them\n",
    "from sympy import sqrt, symbols, Integral, pi, N, init_printing, pprint, linsolve\n",
    "init_printing() # this enables sympy pretty printing (sympy.pprint commands)"
   ]
  },
  {
   "cell_type": "code",
   "execution_count": 6,
   "metadata": {
    "collapsed": false,
    "deletable": true,
    "editable": true
   },
   "outputs": [
    {
     "data": {
      "image/png": "[encoded data removed]",
      "text/latex": [
       "$$\\left \\{ I_{1} : 3, \\quad I_{2} : 4, \\quad I_{4} : 6, \\quad Is : 13, \\quad V_{1} : 12, \\quad V_{2} : 12, \\quad V_{3} : 12, \\quad V_{4} : 12\\right \\}$$"
      ],
      "text/plain": [
       "{I₁: 3, I₂: 4, I₄: 6, Is: 13, V₁: 12, V₂: 12, V₃: 12, V₄: 12}"
      ]
     },
     "execution_count": 6,
     "metadata": {},
     "output_type": "execute_result"
    }
   ],
   "source": [
    "Vs, Is, I1, V1, I2, V2, V3, I4, V4 , R1, R2, R3, R4 = symbols('Vs Is I1 V1 I2 V2 V3 I4 V4 R1 R2 R3 R4')\n",
    "R1=4\n",
    "R2=3\n",
    "R3=2\n",
    "R4=2\n",
    "Vs=12\n",
    "(sympy.solve([V1-R1*I1, V2-R2*I2, V3-R3*I4, V4-R4*I4,Vs-V1, V1-V2, V2-V3,Is-I1-I2-I4 ], (V1,V2,V3,V4,I1,I2,I4,Is), implicit=True))"
   ]
  },
  {
   "cell_type": "markdown",
   "metadata": {
    "deletable": true,
    "editable": true
   },
   "source": [
    "## Lecture 2.3 Exercise 2\n",
    "![lecture2-3exercise](Lecture2-3exercise-2.png)"
   ]
  },
  {
   "cell_type": "code",
   "execution_count": 7,
   "metadata": {
    "collapsed": false,
    "deletable": true,
    "editable": true
   },
   "outputs": [
    {
     "data": {
      "image/png": "[encoded data removed]",
      "text/latex": [
       "$$\\left \\{ I_{3} : 0.0015, \\quad I_{4} : 0.0005, \\quad V_{1} : 20.0, \\quad V_{2} : 8.0, \\quad V_{3} : 3.0, \\quad V_{4} : 3.0, \\quad Vs : 31.0\\right \\}$$"
      ],
      "text/plain": [
       "{I₃: 0.0015, I₄: 0.0005, V₁: 20.0, V₂: 8.0, V₃: 3.0, V₄: 3.0, Vs: 31.0}"
      ]
     },
     "execution_count": 7,
     "metadata": {},
     "output_type": "execute_result"
    }
   ],
   "source": [
    "Vs, Is, V1, V2, V3, I3, V4, I4,R1, R2, R3, R4 = symbols('Vs Is V1 V2 V3 I3 V4 I4 R1 R2 R3 R4')\n",
    "R1=10000\n",
    "R2=4000\n",
    "R3=2000\n",
    "R4=6000\n",
    "Is=0.002\n",
    "(sympy.solve([V1-R1*Is, V2-R2*Is, V3-R3*I3, V4-R4*I4, Vs-V1-V2-V3, V3-V4,Is-I3-I4 ], (V1,V2,V3,V4,I3,I4,Vs), implicit=True))"
   ]
  },
  {
   "cell_type": "markdown",
   "metadata": {
    "deletable": true,
    "editable": true
   },
   "source": [
    "# Lecture 2.3 Exercise 3\n",
    "![lecture2-3exercise](Lecture2-3exercise3.png)"
   ]
  },
  {
   "cell_type": "code",
   "execution_count": 8,
   "metadata": {
    "collapsed": false,
    "deletable": true,
    "editable": true
   },
   "outputs": [
    {
     "data": {
      "image/png": "[encoded data removed]",
      "text/latex": [
       "$$\\left \\{ I_{2} : 2, \\quad I_{3} : 4, \\quad Is : 6, \\quad V_{1} : 2, \\quad V_{2} : 6, \\quad V_{3} : 8\\right \\}$$"
      ],
      "text/plain": [
       "{I₂: 2, I₃: 4, Is: 6, V₁: 2, V₂: 6, V₃: 8}"
      ]
     },
     "execution_count": 8,
     "metadata": {},
     "output_type": "execute_result"
    }
   ],
   "source": [
    "Vs, Is, V1, V2, V3, I2, I3, R1, R2, R3 = symbols('Vs Is V1 V2 V3 I2 I3 R1 R2 R3')\n",
    "R1=1\n",
    "R2=3\n",
    "R3=2\n",
    "Vs=8\n",
    "(sympy.solve([V1-R1*I2, V2-R2*I2, V3-R3*I3, Vs-V1-V2, Vs-V3, Is-I2-I3 ], (V1,V2,V3,Is,I2,I3), implicit=True))"
   ]
  },
  {
   "cell_type": "markdown",
   "metadata": {
    "collapsed": true,
    "deletable": true,
    "editable": true
   },
   "source": [
    "# Lecture 2.4 Exercise 1\n",
    "![lecture2-4exercise1](Lecture2-4exercise1.png)"
   ]
  },
  {
   "cell_type": "code",
   "execution_count": 4,
   "metadata": {
    "collapsed": false
   },
   "outputs": [
    {
     "data": {
      "image/png": "[encoded data removed]",
      "text/latex": [
       "$$\\left \\{ I_{2} : 5, \\quad R_{1} : 2, \\quad V_{1} : 20, \\quad V_{4} : 25, \\quad V_{6} : 10, \\quad V_{7} : -15\\right \\}$$"
      ],
      "text/plain": [
       "{I₂: 5, R₁: 2, V₁: 20, V₄: 25, V₆: 10, V₇: -15}"
      ]
     },
     "execution_count": 4,
     "metadata": {},
     "output_type": "execute_result"
    }
   ],
   "source": [
    "V5, I5, V6, V7, V1, I1, V3, V2, I2, V4, R6, R1, R4 = symbols('V5 I5 V6 V7 V1 I1 V3 V2 I2 V4 R6 R1 R4')\n",
    "V5 = 50\n",
    "I5 = 5\n",
    "R6 = 2\n",
    "I1 = 10\n",
    "V2= 30\n",
    "V3 = 10\n",
    "R4 = 5\n",
    "(sympy.solve([V1-R1*I1, V6-R6*I5, V4-R4*I5, V5-V6-V7-V1-V3-V4, V2-V1-V3, I5-I1+I2  ], (V6,V7,V1,V4,R1,I2), implicit=True))\n"
   ]
  },
  {
   "cell_type": "markdown",
   "metadata": {},
   "source": [
    "# Lecture 2.4 Exercise 2\n",
    "![lecture2-4exercise2](Lecture2-4exercise2.png)"
   ]
  },
  {
   "cell_type": "code",
   "execution_count": 6,
   "metadata": {
    "collapsed": false
   },
   "outputs": [
    {
     "data": {
      "image/png": "[encoded data removed]",
      "text/latex": [
       "$$\\left \\{ I_{2} : 0.003125, \\quad I_{3} : 0.001875, \\quad V_{1} : 9.375, \\quad V_{2} : 9.375, \\quad V_{3} : 9.375\\right \\}$$"
      ],
      "text/plain": [
       "{I₂: 0.003125, I₃: 0.001875, V₁: 9.375, V₂: 9.375, V₃: 9.375}"
      ]
     },
     "execution_count": 6,
     "metadata": {},
     "output_type": "execute_result"
    }
   ],
   "source": [
    "V1, I1, V2, I2, V3, I3 , R2 , R3 = symbols('V1 I1 V2 I2 V3 I3 R2 R3')\n",
    "I1 = 0.005\n",
    "R2 = 3000\n",
    "R3 = 5000\n",
    "(sympy.solve([V2-R2*I2, V3-R3*I3, V1-V2, V2-V3, I1-I2-I3 ], (V1,V2,I2,V3,I3), implicit=True))"
   ]
  },
  {
   "cell_type": "code",
   "execution_count": null,
   "metadata": {
    "collapsed": true
   },
   "outputs": [],
   "source": []
  }
 ],
 "metadata": {
  "kernelspec": {
   "display_name": "Python 3",
   "language": "python",
   "name": "python3"
  },
  "language_info": {
   "codemirror_mode": {
    "name": "ipython",
    "version": 3
   },
   "file_extension": ".py",
   "mimetype": "text/x-python",
   "name": "python",
   "nbconvert_exporter": "python",
   "pygments_lexer": "ipython3",
   "version": "3.5.2"
  }
 },
 "nbformat": 4,
 "nbformat_minor": 2
}
