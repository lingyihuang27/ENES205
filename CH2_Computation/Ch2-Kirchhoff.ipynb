{
 "cells": [
  {
   "cell_type": "markdown",
   "metadata": {
    "deletable": true,
    "editable": true
   },
   "source": [
    "# Kirchhoff Analysis with Python, SymPy\n",
    "\n",
    "# Simple circuit\n",
    "![parallel](parallel.png)  \n",
    "#### Three sources of Unknowns:  \n",
    "2 terminal passive devices: $R_1, R_2, R_3$ 3 of them  \n",
    "voltages: $V_s, V_1, V_2, V_3$ 4 of them  \n",
    "currents: $I_s, I_1, I_2, I_3$ 4 of them  \n",
    "  \n",
    "Given on the schematic: $R_1=1000, R_2=500, R_3=330$  \n",
    "Total of 11-3=8 unknowns\n",
    "  \n",
    "#### Three sources of Equations:  \n",
    "passive devices: $V_1-R_1*I_1, V_2-R_2*I_2,V_3-R_3*I_3$ 3 equations  \n",
    "meshes: $V_s-V_1, V_1-V_2, V_2-V_3$ 3 equations  \n",
    "nodes: $I_s-I_1-I_2-I_3, I_1+I_2+I_3$ 2 equations  \n",
    "\n",
    "8 total equations\n",
    "Throw out 1 node equation\n",
    "  \n",
    "7 equations.\n",
    "\n",
    "#### Counting Unknowns and Equations to determine values needed\n",
    "\n",
    "8 unknowns - 7 equations = 1 value needed to compute everything. Choose $V_s$.\n",
    "\n",
    "Looking just at the voltage equations, can find all the voltages:  \n",
    "\n",
    "$V_1 = V_s, V_2=V_s, V_3=V_s$  \n",
    "  \n",
    "Now have 4 unknown currents - 3 passive device equations = 1 unknown\n",
    "\n",
    "$I_1 = \\frac{V_s}{1000}, I_2 = \\frac{V_s}{500}, I_3 = \\frac{V_s}{330}$\n",
    "\n",
    "Now can use the current equation to find $I_s = \\frac{V_s}{1000} + \\frac{V_s}{500} + \\frac{V_s}{330}$\n",
    "\n",
    "But lets do this all at once using sympy.\n",
    "\n",
    "\n",
    "#### Solving the equations with NumPy and SymPy  \n",
    "  \n",
    "Going to solve with open source software integrated together by Python. First will solve symbolically with SymPy and then numerically with  NumPy. The alternative is to purchase one of these two packages.\n",
    "  \n",
    "[Wolfram Mathematica](https://www.wolfram.com/mathematica/) would evaluate symbolically and then numerically with a notebook user interface similar to this. The two are very integrated. Wolfram Alpha is a tease.   \n",
    "  \n",
    "[Mathworks MatLab](https://www.mathworks.com/) is moving to [MuPad Live](https://www.mathworks.com/help/symbolic/mupad.html) to evaluate symbolically and has a different the traditional interface for numeric computations with limited symbolic manipulation. Need to purchase in addition the symbolic toolbox to get everything working. Integration of the two is something else to learn.\n",
    "\n",
    "#### Importing NumPy and SymPy\n",
    "You are going to want to explore this interface first as a calculator, then as a symbol manipulator. For this reason all of NumPy is imported. This overwrites some native Python commands. SymPy commands are imported by name, only when they don't conflict with Numpy.  \n",
    "  \n",
    "Execute the following cell block by focusing on it (click mouse on it and boarders will turn green) and then pressing the runCell icon:\n",
    "![runCell](runCell.png)  \n",
    "\n",
    "Nothing should happen. Any message will probably be an error message. "
   ]
  },
  {
   "cell_type": "code",
   "execution_count": 22,
   "metadata": {
    "collapsed": true,
    "deletable": true,
    "editable": true
   },
   "outputs": [],
   "source": [
    "#python is loaded initially in all code cells .. see the Python 3 in the box to the upper right?\n",
    "import numpy\n",
    "from numpy import * #the star means add all numpy functions, if there is an overlap/conflict then numpy wins\n",
    "#this is a code cell .. there should be a number in the brackets after excuting this cell\n",
    "set_printoptions(precision=5,linewidth=120,suppress=True) # percision determines number of numpy decimal places displayed\n",
    "import sympy # not importing all sympy functions, have to put sympy in front of them to use them\n",
    "from sympy import sqrt, symbols, Integral, pi, N, init_printing, pprint, linsolve\n",
    "init_printing() # this enables sympy pretty printing (sympy.pprint commands)"
   ]
  },
  {
   "cell_type": "markdown",
   "metadata": {
    "deletable": true,
    "editable": true
   },
   "source": [
    "The above python commands have to be executed once at the top of a jupyter notebook. What follows is the SymPy version of what was done above by hand.\n",
    "\n",
    "#### Excute python code block below to see Simple Circuit Solution\n",
    "\n",
    "Modern computer software doesn't use 0 to define an equation. Instead all equations are set to equal = 0, and you just write what equals zero. \n",
    "\n",
    "If you get an answer of [] or $\\emptyset$, it means that you haven't listed enough variables to solve for, not that you have too few or too many equations. (As long as one of the node equations is tossed out). "
   ]
  },
  {
   "cell_type": "code",
   "execution_count": 23,
   "metadata": {
    "collapsed": false,
    "deletable": true,
    "editable": true
   },
   "outputs": [
    {
     "data": {
      "image/png": "[encoded data removed]",
      "text/latex": [
       "$$\\left \\{ I_{1} : \\frac{Vs}{1000}, \\quad I_{2} : \\frac{Vs}{500}, \\quad I_{3} : \\frac{Vs}{330}, \\quad Is : \\frac{199 Vs}{33000}, \\quad V_{1} : Vs, \\quad V_{2} : Vs, \\quad V_{3} : Vs\\right \\}$$"
      ],
      "text/plain": [
       "⎧     Vs        Vs       Vs      199⋅Vs                        ⎫\n",
       "⎨I₁: ────, I₂: ───, I₃: ───, Is: ──────, V₁: Vs, V₂: Vs, V₃: Vs⎬\n",
       "⎩    1000      500      330      33000                         ⎭"
      ]
     },
     "execution_count": 23,
     "metadata": {},
     "output_type": "execute_result"
    }
   ],
   "source": [
    "#solving for the currents i1,i2,i3,is\n",
    "V1, V2, V3, Vs, I1, I2, I3, Is = symbols('V1 V2 V3 Vs I1 I2 I3 Is')\n",
    "R1=1000\n",
    "R2=500\n",
    "R3=330\n",
    "(sympy.solve([V1-R1*I1, V2-R2*I2,V3-R3*I3,Vs-V1, V1-V2, V2-V3,Is-I1-I2-I3], (V1,V2,V3,I1,I2,I3,Is), implicit=True))"
   ]
  },
  {
   "cell_type": "markdown",
   "metadata": {
    "deletable": true,
    "editable": true
   },
   "source": [
    "## Circuit that is Too Complex (at the moment)\n",
    "This is too complex to solve by hand or in python .. yet .. will solve by end of CH7 .. somewhere in the 11 week of this course  \n",
    "This is an outline of where we are heading:   \n",
    "  \n",
    "Step 1 Solve networks purely resistive networks with constant voltage and current  \n",
    "Step 2 Solve first order circuits with only capacitors or only inductors  \n",
    "Step 3 Solve second order circuits with both capacitors and inductors  \n",
    "  \n",
    "The goal here is to write unknowns and equations .. just to see how they are different\n",
    "   \n",
    "![SlideWithLotsOfSymbols](ch2-Slide10-TrivialMesh.png)  \n",
    "\n",
    "### Three sources of Unknowns:  \n",
    "2 terminal passive devices: $R_1, L_2, C_3, C_4, R_5, C_6, R_7, L_{15}$  \n",
    "voltages: $V_s, V_1, V_2, V_3, V_4, V_5, V_6, V_7, V_{15}$  \n",
    "currents: $I_1, I_2, I_3, I_4, I_5, I_6, I_7, I_{15}$  \n",
    "(notice the current directions all conform to power conventions)  \n",
    "\n",
    "Total number of unknowns 25. \n",
    "\n",
    "### Three sources of Equations:  \n",
    " \n",
    "Each passive device: $V_1 -R_1I_1, V_2 -L_2\\frac{dI_2}{dt}, I_3 -C_3\\frac{dV_3}{dt}, I_4-C_4\\frac{dV_4}{dt}, V_5-R_5I_5, I_6-C_6\\frac{dV_6}{dt}, V_7-R_7I_7, V_{15}-L_{15}\\frac{dI_{15}}{dt}$ 8 equations   \n",
    "  \n",
    "Each Mesh: $V_1+V_2+V_3-V_s, V_3-V_4-V_2, V_5+V_{15}+V_4,V_6-V_7$ 4 equations \n",
    "\n",
    "Each Node or Net: $I_1-I_2-I_3, I_3+I_4-I_5, I_2-I_4-I_6-I_7+I_{15}, I_6+I_7-I_1$ 4 equations\n",
    "\n",
    "Node equation rules:  \n",
    "    One node has to be sacrificed to voltage reference (0) .. typically the negative side of the supply which in this case is the node $I_6+I_7-I_1$.  \n",
    "       \n",
    "So even though you can write 4 node equations, only 3 or less can be used.   \n",
    "  \n",
    "### Counting Unknowns and Equations to determine values needed\n",
    "\n",
    "25 unknowns, 14 equations, 25-14=11 values needed to compute everything.\n",
    "  \n",
    "Can check your work. The number of values needed equals the number of components.  In this circuit there are 8 passive + 1 active = 9 components.  If had 9 values, can compute all voltages and currents. \n",
    "   \n",
    "The known component value of a source is either it's constant voltage or constant current. \n",
    "  \n",
    "The source in this diagram is pictured as a current source = $I_1$ .. this could be the source's known component value.   \n",
    "\n",
    "### Tricky things to remember\n",
    "  \n",
    "1. All sources (whether current or voltage) have both current and voltage.  \n",
    "2. If branch contains only a source, don't panic. Nothing changes. For example:    \n",
    "Remove $R_1, V_1, I_1$ as symbols and $V_1 -R_1I_1$ as a device equation.  \n",
    "What changes? Set $V_1$ to 0 in the equations. $I_1$ remains because there is still current flowing through the current source."
   ]
  },
  {
   "cell_type": "markdown",
   "metadata": {
    "deletable": true,
    "editable": true
   },
   "source": [
    "# Circuit that is Purely Resistive or Snapshot in Time  \n",
    "Either the black boxes are a purely resistive circuit and the values computed hold for all time  \n",
    "or  \n",
    "The black boxes contain Resistors, Capacitors and/or Inductors and the values below are an instant in time.  \n",
    "\n",
    "![constantVoltageCurrent](constantVoltageCurrent.png)\n",
    "\n",
    "After measuring (4.75A, 2.5V, 12,V 3.5A, 2A, 2A, 2V, 5V) eight values, are left with 7 equations and 7 unknowns to find. \n",
    "\n",
    "\n",
    "Have to throw out one of the node equation. "
   ]
  },
  {
   "cell_type": "code",
   "execution_count": 41,
   "metadata": {
    "collapsed": false,
    "deletable": true,
    "editable": true
   },
   "outputs": [
    {
     "name": "stdout",
     "output_type": "stream",
     "text": [
      "{(1.25, -0.5, -4.0)}\n",
      "{(1.25, -0.5, -4)}\n",
      "{(1.25, -0.5, -4)}\n",
      "{(1.25, -0.5, -4)}\n"
     ]
    }
   ],
   "source": [
    "#solving for the currents iA, iB and iC\n",
    "iA, iB, iC = symbols('i_A, i_B, i_C')\n",
    "print (linsolve([4.75-iA-iB-2-2, -4.75+iA+3.5,iB-3.5-iC], (iA,iB,iC)))\n",
    "#choosing another group of three equations\n",
    "print (linsolve([4.75-iA-iB-2-2, 2+2+iC ,iB-3.5-iC], (iA,iB,iC)))\n",
    "#choosing another group of three equations\n",
    "print (linsolve([-4.75+iA+3.5, 2+2+iC ,iB-3.5-iC], (iA,iB,iC)))\n",
    "#choosing another group of three equations\n",
    "print (linsolve([-4.75+iA+3.5, 2+2+iC ,4.75-iA-iB-2-2], (iA,iB,iC)))"
   ]
  },
  {
   "cell_type": "markdown",
   "metadata": {
    "deletable": true,
    "editable": true
   },
   "source": [
    "Don't expect to be able to find the current separately from the voltage as is done in this problem. Here the values were carefully choosen so that there were two sets of equations that could be solved independently. \n",
    "\n",
    "### Building your Intuition\n",
    "\n",
    "The truth this does illustrate is, you should be able to choose any circular loop (loop can contain other components, a mesh can't) path through it and the voltages will add up to zero. \n",
    "\n",
    "Lead with the black probe and trail with the red probe. Follow a path that circles back to the beginning. All the voltages will add up to zero if done correctly. This is true even if there are faults in the circuit. "
   ]
  },
  {
   "cell_type": "code",
   "execution_count": 42,
   "metadata": {
    "collapsed": false,
    "deletable": true,
    "editable": true
   },
   "outputs": [
    {
     "data": {
      "image/png": "[encoded data removed]",
      "text/latex": [
       "$$\\left\\{\\left ( 9.5, \\quad 3.5, \\quad -1, \\quad -2\\right )\\right\\}$$"
      ],
      "text/plain": [
       "{(9.5, 3.5, -1, -2)}"
      ]
     },
     "execution_count": 42,
     "metadata": {},
     "output_type": "execute_result"
    }
   ],
   "source": [
    "#unknowns finding in terms of all other unknowns or values: v1,v2,v3,v4\n",
    "v1, v2, v3, v4= symbols('v_1, v_2, v_3, v_4')\n",
    "(linsolve([-12 + v1 + 2.5, v3+v2-2.5, 4-5-v3, 2-4-v4], (v1,v2,v3,v4)))\n"
   ]
  },
  {
   "cell_type": "markdown",
   "metadata": {
    "deletable": true,
    "editable": true
   },
   "source": [
    "# Analyze a circuit without numbers for anything\n",
    "This problem is to be done with just symbols.   \n",
    "\n",
    "![solvingUnknownsInTermsOfSymbols](solvingUnknownsInTermsOfSymbols.png)  \n",
    " \n",
    "Find $V_{s1}$, $V_{s2}$ as function of the other variables \n",
    "  \n",
    "The first step is to name all the unknowns. Then count them. There are 8. \n",
    "\n",
    "The second step is to write as many, non-trivial, equations as possible. There are 6.  \n",
    "Vs1-V1+V2, V3-Vs2, V1-R1\\*i1, V2-R2\\*i2, V3-R3\\*i3, i1-i2-i3  \n",
    "\n",
    "There are two node equations above: one for the top and one for the bottom. The bottom one was not written and thrown out.\n",
    "\n",
    "This means that there are 8-6=2 unknowns can be found in terms of the other components, $V_{s1}$, $V_{s2}$.\n",
    " "
   ]
  },
  {
   "cell_type": "code",
   "execution_count": 24,
   "metadata": {
    "collapsed": false,
    "deletable": true,
    "editable": true
   },
   "outputs": [
    {
     "name": "stdout",
     "output_type": "stream",
     "text": [
      "{Vs₁: V₁ - V₂, Vs₂: V₃}\n"
     ]
    }
   ],
   "source": [
    "#unknowns finding in terms of all other unknowns: Vs1, Vs2\n",
    "V1, V2, V3, Vs1, Vs2, R1, R2, R3, i1, i2, i3 = symbols('V1 V2 V3 Vs1 Vs2 R1 R2 R3 i1 i2 i3')\n",
    "pprint (sympy.solve([Vs1-V1+V2, V3-Vs2, V1-R1*i1, V2-R2*i2, V3-R3*i3, i1-i2-i3], (Vs1,Vs2), implicit=True))\n"
   ]
  },
  {
   "cell_type": "markdown",
   "metadata": {
    "collapsed": true,
    "deletable": true,
    "editable": true
   },
   "source": [
    "## Four Resistor Problem    \n",
    "Find $V_s and V_x$ in terms of everything else\n",
    "\n",
    "![fourResistors](fourResistors.png)  \n",
    "\n",
    "Mesh Equations $V_s-V_1, V_1-V_2-V_3, V_x-V_4-V_3$  3 equations  \n",
    "  \n",
    "Node Equations $i_x-i_1-i_2, i_2+i_4-i_3,i_r-i_s$  (D above is the one throw out, C is trival but included because symbols were drawn on the circuit) 3 equations     \n",
    "  \n",
    "Passive Terminal Equations $V_1-R_1*i_1, V_2-R_2*i_2, V_3-R_3*i_3, V_4-R_4*i_4$  4 equations  \n",
    "  \n",
    "12 Unknowns, 10 equations, 2 possible unknowns that can be solved for in terms of the other unknowns.  "
   ]
  },
  {
   "cell_type": "code",
   "execution_count": 30,
   "metadata": {
    "collapsed": false,
    "deletable": true,
    "editable": true
   },
   "outputs": [
    {
     "data": {
      "image/png": "[encoded data removed]",
      "text/latex": [
       "$$\\left \\{ Vs : V_{1}, \\quad Vx : V_{3} + V_{4}\\right \\}$$"
      ],
      "text/plain": [
       "{Vs: V₁, Vx: V₃ + V₄}"
      ]
     },
     "execution_count": 30,
     "metadata": {},
     "output_type": "execute_result"
    }
   ],
   "source": [
    "#unknowns finding in terms of all other unknowns: Vs, Vx\n",
    "ix, i1, i2, i3, i4, iss, Vx, Vs, R1, R2, R3, R4, V1, V2, V3, V4 = symbols('ix i1 i2 i3 i4 iss Vx Vs R1 R2 R3 R4 V1 V2 V3 V4')\n",
    "sympy.solve([Vs-V1,V1-V2-V3,Vx-V4-V3,ix-i1-i2,i2+i4-i3,i4-iss,V1-R1*i1, V2-R2*i2, V3-R3*i3, V4-R4*i4], (Vs,Vx), implicit=True)"
   ]
  },
  {
   "cell_type": "markdown",
   "metadata": {
    "deletable": true,
    "editable": true
   },
   "source": [
    "# Troubleshooting\n",
    "\n",
    "#### Error message: \n",
    "\n",
    "Look at it. If can't understand, then look at the statements above. \n",
    "\n",
    "\"is\" is reserved word in Python. Python indicates this by making it red in the list separated by commas where all other variable names are in black. \n",
    "    \n",
    "#### Symptom: Get answer of $\\emptyset$ or [].\n",
    "\n",
    "Cause:  \n",
    "The equations aren't correct.  \n",
    "  \n",
    "One equation can be derived from all the others algebratically. It is not independent of them.\n",
    " Remember symbols-equations=unknowns .. count and check.\n",
    "   \n",
    "The unkowns are not in the list of symbols.  \n",
    "  \n",
    "Did not toss out a node equation.  \n",
    "  "
   ]
  },
  {
   "cell_type": "code",
   "execution_count": null,
   "metadata": {
    "collapsed": true,
    "deletable": true,
    "editable": true
   },
   "outputs": [],
   "source": []
  }
 ],
 "metadata": {
  "kernelspec": {
   "display_name": "Python 3",
   "language": "python",
   "name": "python3"
  },
  "language_info": {
   "codemirror_mode": {
    "name": "ipython",
    "version": 3
   },
   "file_extension": ".py",
   "mimetype": "text/x-python",
   "name": "python",
   "nbconvert_exporter": "python",
   "pygments_lexer": "ipython3",
   "version": "3.5.2"
  }
 },
 "nbformat": 4,
 "nbformat_minor": 2
}
