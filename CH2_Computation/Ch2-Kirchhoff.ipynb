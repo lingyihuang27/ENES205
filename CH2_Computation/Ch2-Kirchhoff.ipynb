{
 "cells": [
  {
   "cell_type": "markdown",
   "metadata": {
    "deletable": true,
    "editable": true
   },
   "source": [
    "# Beginning a Kirchhoff Analysis with Python\n",
    "\n",
    "## Identifying unknowns and equations  \n",
    "   \n",
    "![SlideWithLotsOfSymbols](ch2-Slide10-TrivialMesh.png)  \n",
    "\n",
    "### Three sources of Unknowns:  \n",
    "2 terminal devices: $R_1, L_2, C_3, C_4, R_5, C_6, R_7, L_{15}$  \n",
    "voltages: $V_s, V_1, V_2, V_3, V_4, V_5, V_6, V_7, V_{15}$  \n",
    "currents: $I_1, I_2, I_3, I_4, I_5, I_6, I_7, I_{15}$  \n",
    "(notice the current directions all conform to power conventions)  \n",
    "\n",
    "Total number of unknowns 25. \n",
    "\n",
    "### Three sources of Equations:  \n",
    "\n",
    "Modern computer software doesn't use 0 to define an equation. Instead all equations are set to equal = 0, and you just write what equals zero.\n",
    "  \n",
    "Each device: $V_1 -R_1I_1, V_2 -L_2\\frac{dI_2}{dt}, I_3 -C_3\\frac{dV_3}{dt}, I_4-C_4\\frac{dV_4}{dt}, V_5-R_5I_5, I_6-C_6\\frac{dV_6}{dt}, V_7-R_7I_7, V_{15}-L_{15}\\frac{dI_{15}}{dt}$  \n",
    "    \n",
    "Each Node or Net: $I_1-I_2-I_3, I_3+I_4-I_5, I_2-I_4-I_6-I_7+I_{15}, I_6+I_7-I_1$  \n",
    "  \n",
    "Each Mesh: $V_1+V_2+V_3-V_s, V_3-V_4-V_2, V_5+V_{15}+V_4,V_6-V_7$  \n",
    "  \n",
    "### Counting Unknowns and Equations to determine values needed\n",
    "\n",
    "Total of 16 equations. Thus need 25-16=9 values to compute the values of everything else. \n",
    "  \n",
    "Can check your work. The number of values needed equals the number of components.  In this circuit there are 8 passive + 1 active = 9 components.  If had 9 values, can compute all voltages and currents. \n",
    "   \n",
    "The known component value of a source is either it's constant voltage or constant current. \n",
    "  \n",
    "The source in this diagram is pictured as a current source = $I_1$ .. this would have to be the source's known component value. \n",
    "  \n",
    "\n",
    "### Tricky things to remember\n",
    "  \n",
    "1. All sources (whether current or voltage) have both current and voltage.  \n",
    "2. If branch contains only a source, don't panic. Nothing changes. For example:  \n",
    "  \n",
    "Remove $R_1, V_1, I_1$ as symbols and $V_1 -R_1I_1$ as a device equation.  \n",
    "What changes? Set $V_1$ to 0 in the equations. $I_1$ remains because there is still current flowing through the current source.\n",
    "\n",
    "\n",
    "\n"
   ]
  },
  {
   "cell_type": "markdown",
   "metadata": {
    "collapsed": true,
    "deletable": true,
    "editable": true
   },
   "source": [
    "## Roadmap to the solution\n",
    "  \n",
    "Solving the above circuit (25 equations, 9 knowns, 16 unknowns, 2nd order) is the goal of this course. Ideally get there at there around week 11 of this 14 week course, chapter 7 out of 9 chapters covering in the text.  \n",
    "\n",
    "Step 1 Solve networks purely resistive networks with constant voltage and current\n",
    "Step 2 Solve first order circuits with only capacitors or only inductors  \n",
    "Step 3 Solve second order circuits with both capacitors and inductors  \n",
    "    \n",
    "## Solving the equations with NumPy and SymPy  \n",
    "  \n",
    "Going to solve with open source software integrated together by Python. First will solve symbolically with SymPy and then numerically with  NumPy. The alternative is to purchase one of these two packages.\n",
    "  \n",
    "[Wolfram Mathematica](https://www.wolfram.com/mathematica/) would evaluate symbolically and then numerically with a notebook user interface similar to this. The two are very integrated. Wolfram Alpha is a tease.   \n",
    "  \n",
    "[Mathworks MatLab](https://www.mathworks.com/) is moving to [MuPad Live](https://www.mathworks.com/help/symbolic/mupad.html) to evaluate symbolically and has a different the traditional interface for numeric computations with limited symbolic manipulation. Need to purchase in addition the symbolic toolbox to get everything working. Integration of the two is something else to learn.\n",
    "\n",
    "## Importing NumPy and SymPy\n",
    "You are going to want to explore this interface first as a calculator, then as a symbol manipulator. For this reason all of numpy is imported. Numpy is the default.\n",
    "\n",
    "Sympy is imported but has to be referenced. All sympy commands will start off with \"sympy.\"\n",
    "\n",
    "Execute the following cell block by focusing on it (click mouse on it and boarders will turn green) and then pressing the runCell icon:\n",
    "![runCell](runCell.png)  \n",
    "\n",
    "Nothing should happen. Any message will probably be an error message. "
   ]
  },
  {
   "cell_type": "code",
   "execution_count": 31,
   "metadata": {
    "collapsed": true,
    "deletable": true,
    "editable": true
   },
   "outputs": [],
   "source": [
    "#python is loaded initially in all code cells .. see the Python 3 in the box to the upper right?\n",
    "import numpy\n",
    "from numpy import * #the star means add all numpy functions, if there is an overlap/conflict then numpy wins\n",
    "#this is a code cell .. there should be a number in the brackets after excuting this cell\n",
    "set_printoptions(precision=5,linewidth=120,suppress=True) # percision determines number of numpy decimal places displayed\n",
    "import sympy # not importing all sympy functions, have to put sympy in front of them to use them\n",
    "from sympy import sqrt, symbols, Integral, pi, N, init_printing, pprint, linsolve\n",
    "init_printing() # this enables sympy pretty printing (sympy.pprint commands)"
   ]
  },
  {
   "cell_type": "markdown",
   "metadata": {
    "deletable": true,
    "editable": true
   },
   "source": [
    "# Purely Resistive or Snapshot in time  \n",
    "Don't need to know anything about the devices or their terminal relationships.  \n",
    "Measure 8 values (4.75A, 2.5V, 12,V 3.5A, 2A, 2A, 2V, 5V), can calculate the other 7 values (voltages and currents) if have 7 equations.\n",
    "\n",
    "![constantVoltageCurrent](constantVoltageCurrent.png)\n",
    "\n",
    "Doing the Calculations:"
   ]
  },
  {
   "cell_type": "code",
   "execution_count": 41,
   "metadata": {
    "collapsed": false,
    "deletable": true,
    "editable": true
   },
   "outputs": [
    {
     "name": "stdout",
     "output_type": "stream",
     "text": [
      "{(1.25, -0.5, -4.0)}\n",
      "{(1.25, -0.5, -4)}\n",
      "{(1.25, -0.5, -4)}\n",
      "{(1.25, -0.5, -4)}\n"
     ]
    }
   ],
   "source": [
    "#solving for the currents iA, iB and iC\n",
    "iA, iB, iC = symbols('i_A, i_B, i_C')\n",
    "print (linsolve([4.75-iA-iB-2-2, -4.75+iA+3.5,iB-3.5-iC], (iA,iB,iC)))\n",
    "#choosing another group of three equations\n",
    "print (linsolve([4.75-iA-iB-2-2, 2+2+iC ,iB-3.5-iC], (iA,iB,iC)))\n",
    "#choosing another group of three equations\n",
    "print (linsolve([-4.75+iA+3.5, 2+2+iC ,iB-3.5-iC], (iA,iB,iC)))\n",
    "#choosing another group of three equations\n",
    "print (linsolve([-4.75+iA+3.5, 2+2+iC ,4.75-iA-iB-2-2], (iA,iB,iC)))"
   ]
  },
  {
   "cell_type": "code",
   "execution_count": 42,
   "metadata": {
    "collapsed": false,
    "deletable": true,
    "editable": true
   },
   "outputs": [
    {
     "data": {
      "image/png": "[encoded data removed]",
      "text/latex": [
       "$$\\left\\{\\left ( 9.5, \\quad 3.5, \\quad -1, \\quad -2\\right )\\right\\}$$"
      ],
      "text/plain": [
       "{(9.5, 3.5, -1, -2)}"
      ]
     },
     "execution_count": 42,
     "metadata": {},
     "output_type": "execute_result"
    }
   ],
   "source": [
    "#solving for the voltages vA, vB, vC, vD\n",
    "v1, v2, v3, v4= symbols('v_1, v_2, v_3, v_4')\n",
    "(linsolve([-12 + v1 + 2.5, v3+v2-2.5, 4-5-v3, 2-4-v4], (v1,v2,v3,v4)))\n"
   ]
  },
  {
   "cell_type": "markdown",
   "metadata": {
    "deletable": true,
    "editable": true
   },
   "source": [
    "## Doing Again Just Using Symbols\n",
    "This means that answers will be equations rather than numbers  \n",
    "  \n",
    "Find $V_{s1}$, $V_{s2}$ and $R_1$ as function of the other variables \n",
    "\n",
    "![solvingUnknownsInTermsOfSymbols](solvingUnknownsInTermsOfSymbols.png)  \n",
    "\n",
    "8 unknowns, assuming 5 are known, finding 3 unknowns "
   ]
  },
  {
   "cell_type": "code",
   "execution_count": 66,
   "metadata": {
    "collapsed": false,
    "deletable": true,
    "editable": true
   },
   "outputs": [
    {
     "data": {
      "image/png": "[encoded data removed]",
      "text/latex": [
       "$$\\left \\{ R_{1} : \\frac{V_{1}}{i_{1}}, \\quad Vs_{1} : V_{1} - V_{2}, \\quad Vs_{2} : V_{3}\\right \\}$$"
      ],
      "text/plain": [
       "⎧    V₁                       ⎫\n",
       "⎨R₁: ──, Vs₁: V₁ - V₂, Vs₂: V₃⎬\n",
       "⎩    i₁                       ⎭"
      ]
     },
     "execution_count": 66,
     "metadata": {},
     "output_type": "execute_result"
    }
   ],
   "source": [
    "#solving for the currents i1,i2,i3\n",
    "V1, V2, V3, Vs1, Vs2, R1, R2, R3, i1, i2, i3 = symbols('V1 V2 V3 Vs1 Vs2 R1 R2 R3 i1 i2 i3')\n",
    "sympy.solve([Vs1-V1+V2, V3-Vs2, V1-R1*i1, V2-R2*i2, V3-R3*i3], (Vs1,Vs2,R1), implicit=True)\n"
   ]
  },
  {
   "cell_type": "code",
   "execution_count": null,
   "metadata": {
    "collapsed": true,
    "deletable": true,
    "editable": true
   },
   "outputs": [],
   "source": []
  }
 ],
 "metadata": {
  "kernelspec": {
   "display_name": "Python 3",
   "language": "python",
   "name": "python3"
  },
  "language_info": {
   "codemirror_mode": {
    "name": "ipython",
    "version": 3
   },
   "file_extension": ".py",
   "mimetype": "text/x-python",
   "name": "python",
   "nbconvert_exporter": "python",
   "pygments_lexer": "ipython3",
   "version": "3.5.2"
  }
 },
 "nbformat": 4,
 "nbformat_minor": 2
}
